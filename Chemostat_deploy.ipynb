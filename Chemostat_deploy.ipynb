{
 "cells": [
  {
   "cell_type": "markdown",
   "id": "2422accc-29b4-4765-b20a-00b3ea2c92d1",
   "metadata": {},
   "source": [
    "# **Dynamical chemostat**\n",
    "by: Edwin Saavedra C."
   ]
  },
  {
   "cell_type": "code",
   "execution_count": 1,
   "id": "2b4dd3c3-7aa1-4f26-b572-d899580d0279",
   "metadata": {},
   "outputs": [],
   "source": [
    "#%matplotlib widget\n",
    "import numpy as np\n",
    "import matplotlib.pyplot as plt\n",
    "import matplotlib.gridspec as gridspec\n",
    "import ipywidgets as wd\n",
    "import sympy as sp\n",
    "import pandas as pd\n",
    "from IPython.display import display"
   ]
  },
  {
   "cell_type": "code",
   "execution_count": 2,
   "id": "ea20077e-55a0-444f-b261-cc4dd434df5d",
   "metadata": {},
   "outputs": [],
   "source": [
    "## MATPLOTLIB rcParams\n",
    "plt.rcParams['axes.labelsize'] = 14\n",
    "plt.rcParams['axes.labelweight'] = 'medium'\n",
    "plt.rcParams['axes.labelpad'] = 5.0\n",
    "plt.rcParams['legend.fontsize'] = 10\n",
    "plt.rcParams['axes.edgecolor'] = 'gray'"
   ]
  },
  {
   "cell_type": "code",
   "execution_count": 3,
   "id": "462a0f72-045f-423a-9326-bd3a2b79a0a3",
   "metadata": {},
   "outputs": [],
   "source": [
    "def buildEquations(pi):\n",
    "    x,s = sp.symbols('x s')\n",
    "    p0,p1,p2,p3 = sp.symbols('p_0 p_1 p_2 p_3')\n",
    "\n",
    "    dxdtEq = sp.Eq(x*s/(p0+s) - p1*x - p2*x,0)\n",
    "    dsdtEq = sp.Eq(p2*(1-s) - p3*x*s/(p0+s),0)\n",
    "#    sns = sp.solve([dxdtEq,dcdtEq],(x,s))\n",
    "    return dxdtEq,dsdtEq"
   ]
  },
  {
   "cell_type": "code",
   "execution_count": 4,
   "id": "dd21bf5e-32e3-4b88-b384-b123af85d5e3",
   "metadata": {},
   "outputs": [],
   "source": [
    "def stream(x,s,p):\n",
    "    dxdt =  x*s/(p[0]+s) - p[1]*x - p[2]*x\n",
    "    dsdt =  p[2]*(1-s) - p[3]*x*s/(p[0]+s)\n",
    "    return dxdt,dsdt\n",
    "\n",
    "def steadyState(p):\n",
    "    ssX = p[2]*(p[0]*p[1] + p[0]*p[2] + p[1] + p[2] - 1)/(p[3]*(p[1] + p[2])*(p[1] + p[2] - 1))\n",
    "    ssS = p[0]*(p[1]+p[2])/(1-p[1]-p[2])\n",
    "    return [0,ssX],[1,ssS]\n",
    "\n",
    "def trayectory(x0,s0,p,dt=0.02,end_criteria=1.0E-5):\n",
    "    ## Could use scipy's solve_ivp \n",
    "    time,X,S = [0],[x0],[s0]\n",
    "    dX,dS = stream(X[-1],S[-1],p)\n",
    "    \n",
    "    while np.sqrt(dX*dX + dS*dS) > end_criteria:      \n",
    "        time.append(time[-1]+dt)\n",
    "        X.append(X[-1]+(dX*dt))\n",
    "        S.append(S[-1]+(dS*dt))\n",
    "        dX,dS = stream(X[-1],S[-1],p)\n",
    "        if len(X) > 10000: break\n",
    "    \n",
    "    return pd.DataFrame({'t':time,'x(t)':X,'s(t)':S})"
   ]
  },
  {
   "cell_type": "code",
   "execution_count": 19,
   "id": "c4cf94ea-9349-4f4f-871b-e0974ff41e99",
   "metadata": {},
   "outputs": [],
   "source": [
    "xlin = np.linspace(-0.1,1.1,61)\n",
    "slin = np.linspace(-0.1,1.1,61)\n",
    "x,s  = np.meshgrid(xlin,slin)"
   ]
  },
  {
   "cell_type": "code",
   "execution_count": 6,
   "id": "151f7429-cdf5-44b6-9419-4aeece30374e",
   "metadata": {},
   "outputs": [],
   "source": [
    "df = pd.DataFrame()\n",
    "df[\"Index\"]  = ['Y','q','Ks','b','Q/V','S0']\n",
    "df.set_index(\"Index\",inplace=True)\n",
    "df[\"Label\"]  = [r'Y',r'\\hat{q}',r'K_s',r'b',r'Q/V',r'S^0']\n",
    "df[\"Value\"]  = [0.42,10,20,0.15,1000/2000,50]\n",
    "df[\"Units\"]  = [\"mg(X)/mg(S)\",\"mg(S)/mg(X)·d\",\"mg(S)/L\",\"1/d\",\"1/d\",\"mg(S)/L\"]\n",
    "df[\"Slider\"] = [wd.FloatText(value=v,description=f'${k}$') for k,v in zip(df[\"Label\"],df[\"Value\"])]\n",
    "\n",
    "nd = pd.DataFrame()\n",
    "nd[\"Index\"]  = np.arange(0,4,1)\n",
    "nd.set_index(\"Index\",inplace=True)\n",
    "nd[\"Label\"]  = [fr\"\\pi_{{{s}}}\" for s in nd.index]\n",
    "nd[\"Value\"]  = np.arange(10,14,1)\n",
    "nd[\"Slider\"] = [wd.FloatText(value=\"{:.4f}\".format(v),description=f'${k}$') for k,v in zip(nd[\"Label\"],nd[\"Value\"])]"
   ]
  },
  {
   "cell_type": "code",
   "execution_count": 9,
   "id": "521ab28f-0fd3-4328-bf30-ed25876f4ed3",
   "metadata": {},
   "outputs": [],
   "source": [
    "def update_values():\n",
    "    df[\"Value\"] = [w.value for w in df[\"Slider\"]]\n",
    "    nd[\"Value\"] = [w.value for w in nd[\"Slider\"]]\n",
    "\n",
    "def calculate_ps(change):   \n",
    "    nd[\"Slider\"][0].value = df[\"Slider\"]['Ks'].value/df[\"Slider\"]['S0'].value\n",
    "    nd[\"Slider\"][1].value = df[\"Slider\"]['b'].value/(df[\"Slider\"]['q'].value*df[\"Slider\"]['Y'].value)\n",
    "    nd[\"Slider\"][2].value = df[\"Slider\"]['Q/V'].value/(df[\"Slider\"]['q'].value*df[\"Slider\"]['Y'].value)\n",
    "    nd[\"Slider\"][3].value = 1.0\n",
    "    \n",
    "    update_values()"
   ]
  },
  {
   "cell_type": "code",
   "execution_count": 10,
   "id": "108902b8-3132-4400-b5f9-581008c33484",
   "metadata": {
    "tags": []
   },
   "outputs": [],
   "source": [
    "for slider in df[\"Slider\"]:\n",
    "    slider.observe(calculate_ps,'value')\n",
    "\n",
    "calculate_ps(True)"
   ]
  },
  {
   "cell_type": "code",
   "execution_count": 11,
   "id": "68a65ae0-9af0-4b53-ae37-146f6b249481",
   "metadata": {
    "tags": []
   },
   "outputs": [],
   "source": [
    "whitespace = wd.HTML(\"&nbsp;&nbsp;<b>&#8594;</b>&nbsp;&nbsp;\")\n",
    "layout = wd.Layout(justify_content='center',align_items='center')\n",
    "\n",
    "eqTex0 = wd.HTMLMath(r'''\\begin{equation}\n",
    "\\begin{array}{rcl}\n",
    "    \\dfrac{dX}{dt} &=& Y\\hat{q}X\\dfrac{S}{K_S + S} - bX - \\tfrac{Q}{V}X \\\\\n",
    "    \\dfrac{dS}{dt} &=& \\tfrac{Q}{V}(S_\\infty-S) - \\hat{q}X\\dfrac{S}{K_S + S}\n",
    "\\end{array}\n",
    "\\end{equation}''',layout=layout)\n",
    "\n",
    "eqTex1_1 = wd.HTMLMath(r'''\\begin{equation*}\n",
    "\\begin{array}{rcl}\n",
    "    s &=& S/S_\\infty \\\\\n",
    "    x &=& X/X_{\\rm max} \\\\\n",
    "    \\tau &=& \\hat{q}Yt \\\\\n",
    "\\end{array}\n",
    "\\end{equation*}''')\n",
    "\n",
    "eqTex1_2 = wd.HTMLMath(r'''\\begin{equation*}\n",
    "\\begin{array}{rcl}\n",
    "    \\pi_0 &=& K_S/S_\\infty \\\\\n",
    "    \\pi_1 &=& b/\\hat{q}Y \\\\\n",
    "    \\pi_2 &=& Q/V\\hat{q}Y \\\\\n",
    "    \\pi_3 &=& X_{\\rm max}/S_\\infty Y \\\\\n",
    "\\end{array}\n",
    "\\end{equation*}''')\n",
    "\n",
    "eqTex1 = wd.HBox([eqTex1_1,whitespace,eqTex1_2],layout=layout)\n",
    "\n",
    "eqTex2 = wd.HTMLMath(r'''\\begin{equation}\n",
    "\\begin{array}{rcl}\n",
    "    \\dfrac{dx}{d\\tau} &=& x\\dfrac{s}{\\pi_0 + s} - \\pi_1 x - \\pi_2 x \\\\\n",
    "    \\dfrac{ds}{d\\tau} &=& \\pi_2 \\left(1-s\\right) - \\pi_3 x\\dfrac{s}{\\pi_0 + s}\\\\\n",
    "\\end{array}\n",
    "\\end{equation}''',layout=layout)\n",
    "\n",
    "eqTex3 = wd.HTMLMath(r'''\\begin{equation}\n",
    "\\begin{array}{cc}\n",
    "    x=0 & s=1 \\\\\n",
    "    x = \\dfrac{\\pi_{2} \\left(\\pi_{0} \\pi_{1} + \\pi_{0} \\pi_{2} + \\pi_{1} + \\pi_{2} - 1\\right)}{\\pi_{3} \\left(\\pi_{1} + \\pi_{2}\\right) \\left(\\pi_{1} + \\pi_{2} - 1 \\right)}& s = \\dfrac{\\pi_{0} \\left(\\pi_{1} + \\pi_{2}\\right)}{1 - \\pi_{1} - \\pi_{2}}\n",
    "\\end{array}\n",
    "\\end{equation}''',layout=layout)\n",
    "\n",
    "eqTexs = [eqTex0,eqTex1,eqTex2,eqTex3]"
   ]
  },
  {
   "cell_type": "code",
   "execution_count": 27,
   "id": "11a7eaa2-e8a2-4f2f-9e63-459563efc3b4",
   "metadata": {},
   "outputs": [
    {
     "data": {
      "application/vnd.jupyter.widget-view+json": {
       "model_id": "bbbd96620bea4d6d9c45723d73479116",
       "version_major": 2,
       "version_minor": 0
      },
      "text/plain": [
       "VBox(children=(Accordion(children=(HTMLMath(value='\\\\begin{equation}\\n\\\\begin{array}{rcl}\\n    \\\\dfrac{dX}{dt}…"
      ]
     },
     "metadata": {},
     "output_type": "display_data"
    }
   ],
   "source": [
    "kw_streams = {'density':1,'linewidth':1.5,'arrowsize':0.8,\n",
    "              'arrowstyle':'->','color':[1,1,1,0.5],'minlength':0.2}\n",
    "\n",
    "output = wd.Output(layout=layout)\n",
    "\n",
    "@output.capture(clear_output=True)\n",
    "def plotStream(x,s):\n",
    "    update_values()\n",
    "    \n",
    "    p = nd[\"Value\"]\n",
    "    dx,ds = stream(x,s,p)\n",
    "    ssx,sss = steadyState(p)\n",
    "    tray = trayectory(1.0E-4,1,p)\n",
    "    \n",
    "    kw_streams = {'density':2,'linewidth':1.5,'arrowsize':0.8,\n",
    "              'arrowstyle':'->','color':'k','minlength':0.1}\n",
    "\n",
    "    fig = plt.figure(figsize=[12,6])\n",
    "    gs = gridspec.GridSpec(6, 12)\n",
    "    ax = fig.add_subplot(gs[:,:6])\n",
    "    ax.set_aspect(\"equal\")\n",
    "    ax.streamplot(x,s,dx,ds,**kw_streams,zorder=2)\n",
    "    ax.scatter(ssx,sss,s=250,clip_on=False,ec='k')\n",
    "    \n",
    "    if ssx[1] < 0:\n",
    "        ax.annotate(\"Washout\",\n",
    "                  xy=(0.0, 0.99), xycoords='data',\n",
    "                  xytext=(0.5, 0.5), textcoords='data',\n",
    "                  size=20, va=\"center\", ha=\"center\",\n",
    "                  bbox=dict(boxstyle=\"round4\", fc=\"pink\", ec=\"red\"),\n",
    "                  arrowprops=dict(arrowstyle=\"-|>\",\n",
    "                                  connectionstyle=\"arc3,rad=-0.2\",\n",
    "                                  fc=\"w\",ec='red'))\n",
    "    else:\n",
    "        ax.plot(tray[\"x(t)\"],tray[\"s(t)\"],lw=5,c='purple')\n",
    "\n",
    "    ax.grid(True,ls='dashed',lw=1,c=[0.5,0.5,0.5,0.5])\n",
    "    ax.set_xlabel(\"$x$ [-]\",)\n",
    "    ax.set_ylabel(\"$s$ [-]\")\n",
    "    ax.set(xlim=[0,1],ylim=[0,1])   \n",
    "\n",
    "    pax = fig.add_subplot(gs[:,7:])\n",
    "    pax.set_facecolor(\"#F5DEB343\")\n",
    "    pax.plot(tray['t'],tray['x(t)'],label=r\"$x(t)$\")\n",
    "    pax.plot(tray['t'],tray['s(t)'],label=r\"$s(t)$\")\n",
    "    pax.set_ylim([0,1])\n",
    "    pax.set_xlim(left=0)\n",
    "    pax.set_xlabel(r'$t$')#,labelpad=-8)\n",
    "    pax.legend(loc='upper right',fontsize=12)\n",
    "    \n",
    "    plt.show();\n",
    "  \n",
    "    return None\n",
    "\n",
    "def updateFig(b):\n",
    "    plotStream(x,s);\n",
    "\n",
    "updateFig(True);\n",
    "\n",
    "plotButton = wd.Button(description=\"Plot!\",icon='drafting-compass')\n",
    "plotButton.on_click(updateFig)\n",
    "\n",
    "gs = wd.GridspecLayout(12,2)\n",
    "gs[0:5,0] = wd.VBox(list(df[\"Slider\"]))\n",
    "gs[0:4,1] = wd.VBox(list(nd[\"Slider\"]))\n",
    "gs[4,1] = plotButton\n",
    "gs[5:,:] = wd.HBox([output])\n",
    "\n",
    "accordion = wd.Accordion(eqTexs,layout=wd.Layout(align_items='stretch'))\n",
    "accordion.selected_index = None\n",
    "accordion.set_title(0,'Governing ODEs')\n",
    "accordion.set_title(1,'Nondimensionalization')\n",
    "accordion.set_title(2,'Non-dimensional ODEs')\n",
    "accordion.set_title(3,'Steady-state solution')\n",
    "\n",
    "mainBox = wd.VBox([accordion,gs])\n",
    "display(mainBox)"
   ]
  }
 ],
 "metadata": {
  "kernelspec": {
   "display_name": "Python 3 (ipykernel)",
   "language": "python",
   "name": "python3"
  },
  "language_info": {
   "codemirror_mode": {
    "name": "ipython",
    "version": 3
   },
   "file_extension": ".py",
   "mimetype": "text/x-python",
   "name": "python",
   "nbconvert_exporter": "python",
   "pygments_lexer": "ipython3",
   "version": "3.8.10"
  }
 },
 "nbformat": 4,
 "nbformat_minor": 5
}

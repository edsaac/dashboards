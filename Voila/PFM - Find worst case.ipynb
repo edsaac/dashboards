{
 "cells": [
  {
   "cell_type": "markdown",
   "metadata": {},
   "source": [
    "<div align=\"center\"><h1>Potential Flow Model</h1></div>\n",
    "<div align=\"center\"><h2>log-reduction calculator</h2></div>"
   ]
  },
  {
   "cell_type": "code",
   "execution_count": 1,
   "metadata": {},
   "outputs": [],
   "source": [
    "%reset -f\n",
    "import numpy as np\n",
    "import matplotlib.pyplot as plt\n",
    "#import matplotlib\n",
    "import ipywidgets as wd\n",
    "from os import system\n",
    "import os\n",
    "from matplotlib.gridspec import GridSpec \n",
    "\n",
    "#import jupypft.attachmentRateCFT as CFT\n",
    "#import jupypft.plotBTC as BTC\n",
    "\n",
    "''' GLOBAL CONSTANTS '''\n",
    "PI = 3.141592\n",
    "I = 10**np.linspace(-5,0,num=100)\n",
    "\n",
    "''' FUNCTION CALCULATORS'''\n",
    "def calculateAll(var_dict):\n",
    "    K = var_dict['K']\n",
    "    THETA = var_dict['n']\n",
    "    Qin = var_dict['Qin']/86400\n",
    "    f = var_dict['Qout']/var_dict['Qin']\n",
    "    H = var_dict['H']\n",
    "    r = var_dict['rs']\n",
    "    C0 = 1.0\n",
    "    decayRate = var_dict['mu']/86400\n",
    "    attchRate = var_dict['katt']/86400\n",
    "    delY,delZ = 1.35,var_dict['H']\n",
    "        \n",
    "    def flowNumber(): return (4.0*K*I*H*r) / (Qin*(1+f))\n",
    "    def uChar(): return -(K*I*flowNumber())/(THETA*(flowNumber() + 1))\n",
    "    def tChar(): return -r/uChar()\n",
    "    def cDecay(): return C0 * np.exp(-decayRate * tChar())\n",
    "    def cAttach(): return C0 * np.exp(-attchRate * tChar())\n",
    "    def cDilut(): return (C0 * Qin) / (-uChar() * delY * delZ * THETA)\n",
    "    def cBoth(): return (C0 * Qin) / (-uChar() * delY * delZ * THETA) * np.exp(-decayRate * tChar())\n",
    "    def cTrice(): return (C0 * Qin) / (-uChar() * delY * delZ * THETA) * np.exp(-(decayRate+attchRate) * tChar())\n",
    "    def findSweet(): return np.argmin(np.abs(cTrice() - np.max(cTrice())))  \n",
    "    \n",
    "    cDec = cDecay()\n",
    "    cDil = cDilut()\n",
    "    cAtt = cAttach()\n",
    "    cBot = cBoth()\n",
    "    cAll = cTrice()\n",
    "    i = findSweet()\n",
    "    worstC = cAll[i]\n",
    "    worstI = I[i]\n",
    "    \n",
    "    results_dict = dict(cDec=cDec,cDil=cDil,cAtt=cAtt,cBot=cBot,cAll=cAll,i=i,worstC=worstC,worstI=worstI)\n",
    "    return results_dict"
   ]
  },
  {
   "cell_type": "code",
   "execution_count": 2,
   "metadata": {},
   "outputs": [],
   "source": [
    "gs_Parameters = wd.GridspecLayout(8,2)\n",
    "\n",
    "var_keys = [\"K\",\"H\",\"rs\",\"Qin\",\"Qout\",\"n\",\"mu\",\"katt\"]\n",
    "init_values = [0.01,20,40,0.24,2.4,0.35,0.30,0.10]\n",
    "min_values = [1.0E-6,0.1,0.1,0.001,0.001,0.01,1.0E-6,1.0E-6]\n",
    "max_values = [1.0E+2,1000,1000,1000,1000,0.999,1.0E+6,1.0E+6]\n",
    "\n",
    "var_dict = {k:v for k,v in zip(var_keys,init_values)}\n",
    "\n",
    "lbl_Parameters = [wd.Label(txt) for txt in \n",
    "                      [\"Hydraulic conductivity [m/d]\",\n",
    "                      \"Aquifer thickness [m]\",\n",
    "                      \"Setback distance [m]\",\n",
    "                      \"Contaminant influx [m3/d]\",\n",
    "                      \"Extraction flow rate [m3/d]\",\n",
    "                      \"Porosity [-]\",\n",
    "                      \"Inactivation rate [1/d]\",\n",
    "                      \"Attachment rate [1/d]\"]]\n",
    "\n",
    "val_Parameters = [wd.BoundedFloatText(value=v,min=minv,max=maxv,description=txt)\n",
    "                  for v,minv,maxv,txt in \n",
    "                  zip(init_values,min_values,max_values,\n",
    "                         [r\"$K$\",\n",
    "                          r\"$H$\",\n",
    "                          r\"$r_s$\",\n",
    "                          r\"$Q_{\\rm in}$\",\n",
    "                          r\"$Q_{\\rm out}$\",\n",
    "                          r\"$n$\",\n",
    "                          r\"$\\mu_m$\",\n",
    "                          r\"$k_{\\rm att}$\"])]\n",
    "\n",
    "for i,(lbl,val) in enumerate(zip(lbl_Parameters,val_Parameters)):\n",
    "    gs_Parameters[i,0],gs_Parameters[i,1] = lbl,val\n",
    "\n",
    "def update_values(_):\n",
    "    '''Updates var_dict with the widgets values'''\n",
    "    for k,v in zip(var_dict.keys(),val_Parameters):\n",
    "        var_dict[k] = v.value    \n",
    "\n",
    "for val_Widget in val_Parameters:\n",
    "    val_Widget.observe(update_values,'value')\n",
    "\n",
    "update_values(None)"
   ]
  },
  {
   "cell_type": "code",
   "execution_count": 3,
   "metadata": {},
   "outputs": [],
   "source": [
    "layout = wd.Layout(justify_content='center',align_items='center')\n",
    "output = wd.Output(layout=layout)\n",
    "\n",
    "bbox = dict(boxstyle='round', facecolor='mintcream', alpha=0.90)\n",
    "arrowprops = dict(arrowstyle=\"->\",connectionstyle=\"angle,angleA=90,angleB=40,rad=5\")\n",
    "fontdict = dict(size=12)\n",
    "\n",
    "@output.capture(clear_output=True)\n",
    "def plot_PFM(_):\n",
    "    \n",
    "    update_values(_)\n",
    "    cDec,cDil,cAtt,cBot,cAll,i,worstC,worstI = calculateAll(var_dict).values()\n",
    "    \n",
    "    with np.errstate(divide='ignore'):\n",
    "        logs_cDec = -np.log10(cDec)\n",
    "        logs_cDil = -np.log10(cDil)\n",
    "        logs_cAtt = -np.log10(cAtt)\n",
    "        logs_cAll = -np.log10(cAll)\n",
    "    \n",
    "    \n",
    "    fig,ax = plt.subplots(figsize=(8,6))\n",
    "\n",
    "    #### log-removals\n",
    "    ax.plot(I,logs_cDec,label=\"Due decay\",lw=3,ls=\"dashed\",alpha=0.8)\n",
    "    ax.plot(I,logs_cDil,label=\"Due dilution\",lw=3,ls=\"dashed\",alpha=0.8)\n",
    "    ax.plot(I,logs_cAtt,label=\"Due attachment\",lw=2,ls=\"dashed\",alpha=0.6)\n",
    "    ax.plot(I,logs_cAll,label=\"Combined effect\",lw=3,c='k',alpha=0.9)\n",
    "\n",
    "    ####################################<\n",
    "    #Line worst case scenario\n",
    "    #ax.axvline(x=I[i], lw=1, ls=\"dashed\", c=\"red\",alpha=0.5)\n",
    "    ax.axhline(y=4, lw=1, ls='dashed', c='r', alpha = 0.5)\n",
    "    \n",
    "    annotation = \\\n",
    "        r\"$\\bf{-\\log(C/C_0)} = $\" + \"{:.1f}\".format(-np.log10(worstC)) + \\\n",
    "        \"\\n@\" + r\" $\\bf{I} = $\" + \"{:.1E}\".format(worstI)\n",
    "    \n",
    "    ax.scatter([worstI],[-np.log10(worstC)], \n",
    "               c='r', marker='X', s=250, zorder=2,\n",
    "               label=\"\\n\\nWorst case:\\n\" + annotation)\n",
    "\n",
    "    #####################################\n",
    "    ax.set(xscale=\"log\",xlim=(1.0E-4,0.5),ylim=(-0.1,10))\n",
    "    ax.set_xlabel(\"Water table gradient\\n$I$ [m/m]\",fontdict=fontdict)\n",
    "    ax.set_ylabel(\"log-reductions\\n$-\\log(C/C_0)$ [-]\",fontdict=fontdict)\n",
    "    ax.legend(loc=\"center left\",bbox_to_anchor=(1.02,0.5),shadow=True)\n",
    "   \n",
    "    plt.show()"
   ]
  },
  {
   "cell_type": "code",
   "execution_count": 4,
   "metadata": {},
   "outputs": [],
   "source": [
    "plotButton = wd.Button(description=\"Plot!\",icon=\"fa-carrot\")\n",
    "plotButton.on_click(plot_PFM)\n",
    "\n",
    "mainBox = wd.VBox([gs_Parameters,plotButton,output],layout=layout)"
   ]
  },
  {
   "cell_type": "code",
   "execution_count": 5,
   "metadata": {},
   "outputs": [
    {
     "data": {
      "application/vnd.jupyter.widget-view+json": {
       "model_id": "9f76779a8231452faf2b7b200933b2b6",
       "version_major": 2,
       "version_minor": 0
      },
      "text/plain": [
       "VBox(children=(GridspecLayout(children=(Label(value='Hydraulic conductivity [m/d]', layout=Layout(grid_area='w…"
      ]
     },
     "metadata": {},
     "output_type": "display_data"
    }
   ],
   "source": [
    "mainBox"
   ]
  },
  {
   "cell_type": "code",
   "execution_count": null,
   "metadata": {},
   "outputs": [],
   "source": []
  }
 ],
 "metadata": {
  "kernelspec": {
   "display_name": "Python 3 (ipykernel)",
   "language": "python",
   "name": "python3"
  },
  "language_info": {
   "codemirror_mode": {
    "name": "ipython",
    "version": 3
   },
   "file_extension": ".py",
   "mimetype": "text/x-python",
   "name": "python",
   "nbconvert_exporter": "python",
   "pygments_lexer": "ipython3",
   "version": "3.8.10"
  },
  "toc": {
   "base_numbering": 1,
   "nav_menu": {},
   "number_sections": false,
   "sideBar": false,
   "skip_h1_title": false,
   "title_cell": "Table of Contents",
   "title_sidebar": "Contents",
   "toc_cell": false,
   "toc_position": {},
   "toc_section_display": false,
   "toc_window_display": false
  }
 },
 "nbformat": 4,
 "nbformat_minor": 4
}

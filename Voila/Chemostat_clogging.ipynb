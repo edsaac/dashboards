{
 "cells": [
  {
   "cell_type": "markdown",
   "id": "2422accc-29b4-4765-b20a-00b3ea2c92d1",
   "metadata": {},
   "source": [
    "# **Chemostat: Logistic + Clogging**\n",
    "by: Edwin Saavedra C."
   ]
  },
  {
   "cell_type": "code",
   "execution_count": 1,
   "id": "2b4dd3c3-7aa1-4f26-b572-d899580d0279",
   "metadata": {},
   "outputs": [],
   "source": [
    "#%matplotlib widget\n",
    "import numpy as np\n",
    "import matplotlib.pyplot as plt\n",
    "import matplotlib.gridspec as gridspec\n",
    "import ipywidgets as wd\n",
    "import sympy as sp\n",
    "import pandas as pd\n",
    "from IPython.display import display\n",
    "from scipy.integrate import odeint\n",
    "from scipy.optimize import fsolve,root"
   ]
  },
  {
   "cell_type": "code",
   "execution_count": 2,
   "id": "ea20077e-55a0-444f-b261-cc4dd434df5d",
   "metadata": {
    "tags": []
   },
   "outputs": [],
   "source": [
    "## MATPLOTLIB rcParams\n",
    "plt.rcParams['axes.labelsize'] = 14\n",
    "plt.rcParams['axes.labelweight'] = 'medium'\n",
    "plt.rcParams['axes.labelpad'] = 5.0\n",
    "plt.rcParams['legend.fontsize'] = 10\n",
    "plt.rcParams['axes.edgecolor'] = 'gray'"
   ]
  },
  {
   "cell_type": "code",
   "execution_count": 3,
   "id": "dd21bf5e-32e3-4b88-b384-b123af85d5e3",
   "metadata": {},
   "outputs": [],
   "source": [
    "def stream(Y,t,p):\n",
    "    x,s = Y\n",
    "    dxdt =  x*(1-x)*s/(p[0]+s) - p[1]*x\n",
    "    dsdt =  p[2]*np.power(np.maximum(1-x,0),p[4])*(1-s) - p[3]*x*(1-x)*s/(p[0]+s)\n",
    "    return [dxdt,dsdt]\n",
    "\n",
    "def rates(Y,t,p):\n",
    "    x,s = Y\n",
    "    x,s = np.array(x),np.array(s)\n",
    "    dqdt =  p[2]*np.power(np.maximum(1-x,0),p[4])*df['Value']['Y']*df['Value']['q']\n",
    "    #drdt =  p[3]*(1-x)*s/(p[0]+s)*df['Value']['q']*df['Value']['Y']*df['Value']['S0']\n",
    "    drdt =  p[3]*x*(1-x)*s/(p[0]+s)*df['Value']['q']*df['Value']['Y']*df['Value']['S0']\n",
    "    return [dqdt,drdt]"
   ]
  },
  {
   "cell_type": "code",
   "execution_count": 4,
   "id": "151f7429-cdf5-44b6-9419-4aeece30374e",
   "metadata": {
    "tags": []
   },
   "outputs": [],
   "source": [
    "df = pd.DataFrame()\n",
    "df[\"Index\"]  = ['Y','q','Ks','b','Q/V','S0','n']\n",
    "df.set_index(\"Index\",inplace=True)\n",
    "df[\"Label\"]  = [r'Y',r'\\hat{q}',r'K_s',r'b',r'Q/V',r'S^0',r'n']\n",
    "df[\"Value\"]  = [0.42,10,20,0.15,1000/2000,50,1]\n",
    "df[\"Units\"]  = [\"mg(X)/mg(S)\",\"mg(S)/mg(X)·d\",\"mg(S)/L\",\"1/d\",\"1/d\",\"mg(S)/L\",\"-\"]\n",
    "df[\"Slider\"] = [wd.FloatText(value=v,description=f'${k}$',step=0.1) for k,v in zip(df[\"Label\"],df[\"Value\"])]\n",
    "\n",
    "nd = pd.DataFrame()\n",
    "nd[\"Index\"]  = np.arange(0,5,1)\n",
    "nd.set_index(\"Index\",inplace=True)\n",
    "nd[\"Label\"]  = [fr\"\\pi_{{{s}}}\" for s in nd.index]\n",
    "nd[\"Value\"]  = np.arange(10,15,1)\n",
    "nd[\"Slider\"] = [wd.FloatText(value=\"{:.4f}\".format(v),description=f'${k}$') for k,v in zip(nd[\"Label\"],nd[\"Value\"])]"
   ]
  },
  {
   "cell_type": "code",
   "execution_count": 5,
   "id": "521ab28f-0fd3-4328-bf30-ed25876f4ed3",
   "metadata": {
    "tags": []
   },
   "outputs": [],
   "source": [
    "def update_values():\n",
    "    df[\"Value\"] = [w.value for w in df[\"Slider\"]]\n",
    "    nd[\"Value\"] = [w.value for w in nd[\"Slider\"]]\n",
    "\n",
    "def calculate_ps(change):   \n",
    "    nd[\"Slider\"][0].value = df[\"Slider\"]['Ks'].value/df[\"Slider\"]['S0'].value\n",
    "    nd[\"Slider\"][1].value = df[\"Slider\"]['b'].value/(df[\"Slider\"]['q'].value*df[\"Slider\"]['Y'].value)\n",
    "    nd[\"Slider\"][2].value = df[\"Slider\"]['Q/V'].value/(df[\"Slider\"]['q'].value*df[\"Slider\"]['Y'].value)\n",
    "    nd[\"Slider\"][3].value = 1.0\n",
    "    nd[\"Slider\"][4].value = df[\"Slider\"]['n'].value\n",
    "    \n",
    "    update_values()"
   ]
  },
  {
   "cell_type": "code",
   "execution_count": 6,
   "id": "108902b8-3132-4400-b5f9-581008c33484",
   "metadata": {
    "tags": []
   },
   "outputs": [],
   "source": [
    "for slider in df[\"Slider\"]:\n",
    "    slider.observe(calculate_ps,'value')\n",
    "\n",
    "calculate_ps(True)"
   ]
  },
  {
   "cell_type": "code",
   "execution_count": 7,
   "id": "68a65ae0-9af0-4b53-ae37-146f6b249481",
   "metadata": {
    "tags": []
   },
   "outputs": [],
   "source": [
    "whitespace = wd.HTML(\"&nbsp;&nbsp;<b>&#8594;</b>&nbsp;&nbsp;\")\n",
    "layout = wd.Layout(justify_content='center',align_items='center')\n",
    "\n",
    "eqTex0 = wd.HTMLMath(r'''\\begin{equation}\n",
    "\\begin{array}{rcl}\n",
    "    \\dfrac{dX}{dt} &=& Y\\hat{q}X\\left(1-\\dfrac{X}{X_{\\rm max}}\\right)\\dfrac{S}{K_S + S} - bX \\\\\n",
    "    \\dfrac{dS}{dt} &=& \\tfrac{Q}{V}\\left(1-\\dfrac{X}{X_{\\rm max}}\\right)^n (S_\\infty-S) - \\hat{q}X\\left(1-\\dfrac{X}{X_{\\rm max}}\\right)\\dfrac{S}{K_S + S}\n",
    "\\end{array}\n",
    "\\end{equation}''',layout=layout)\n",
    "\n",
    "eqTex1_1 = wd.HTMLMath(r'''\\begin{equation*}\n",
    "\\begin{array}{rcl}\n",
    "    s &=& S/S_\\infty \\\\\n",
    "    x &=& X/X_{\\rm max} \\\\\n",
    "    \\tau &=& \\hat{q}Yt \\\\\n",
    "\\end{array}\n",
    "\\end{equation*}''')\n",
    "\n",
    "eqTex1_2 = wd.HTMLMath(r'''\\begin{equation*}\n",
    "\\begin{array}{rcl}\n",
    "    \\pi_0 &=& K_S/S_\\infty \\\\\n",
    "    \\pi_1 &=& b/\\hat{q}Y \\\\\n",
    "    \\pi_2 &=& Q/V\\hat{q}Y \\\\\n",
    "    \\pi_3 &=& X_{\\rm max}/S_\\infty Y \\\\\n",
    "\\end{array}\n",
    "\\end{equation*}''')\n",
    "\n",
    "eqTex1 = wd.HBox([eqTex1_1,whitespace,eqTex1_2],layout=layout)\n",
    "\n",
    "eqTex2 = wd.HTMLMath(r'''\\begin{equation}\n",
    "\\begin{array}{rcl}\n",
    "    \\dfrac{dx}{d\\tau} &=& x(1-x)\\dfrac{s}{\\pi_0 + s} - \\pi_1 x \\\\\n",
    "    \\dfrac{ds}{d\\tau} &=& \\pi_2 \\left(1-x\\right)^n \\left(1-s\\right) - \\pi_3 x(1-x)\\dfrac{s}{\\pi_0 + s}\\\\\n",
    "\\end{array}\n",
    "\\end{equation}''',layout=layout)\n",
    "\n",
    "eqTex3 = wd.HTMLMath(r'''\\begin{equation}\n",
    "\\begin{array}{cc}\n",
    "    x=0 & s=1 \\\\\n",
    "    x = \\mathsf{:S} & s = \\mathsf{>.<}\n",
    "\\end{array}\n",
    "\\end{equation}''',layout=layout)\n",
    "\n",
    "eqTexs = [eqTex0,eqTex1,eqTex2,eqTex3]"
   ]
  },
  {
   "cell_type": "code",
   "execution_count": 8,
   "id": "c9f1d718-4601-442a-8ce8-3ad79c7b2cfd",
   "metadata": {},
   "outputs": [],
   "source": [
    "kw_streams = {'density':1,'linewidth':1.5,'arrowsize':0.8,\n",
    "              'arrowstyle':'->','color':[1,1,1,0.5],'minlength':0.2}\n",
    "\n",
    "output = wd.Output(layout=layout)\n",
    "\n",
    "@output.capture(clear_output=True)\n",
    "def plotStream():\n",
    "    update_values()\n",
    "    \n",
    "    time = np.arange(0,50,0.5)\n",
    "    xlin = np.linspace(0,1,61)\n",
    "    slin = np.linspace(0,1,61)\n",
    "    x,s  = np.meshgrid(xlin,slin)\n",
    "    p = nd[\"Value\"]\n",
    "    initVals = [v.value for v in init]\n",
    "    \n",
    "    ## Calculate vector field\n",
    "    dx,ds = stream([x,s],None,p)\n",
    "\n",
    "    ## Calculate trayectories given initial condition\n",
    "    tray = odeint(stream,initVals,time,args=(p,))\n",
    "    \n",
    "    ## Calculate steady-state\n",
    "    #ssx,sss = fsolve(stream, initVals,args=(_,p))\n",
    "    sol = root(stream,[tray[-1,0],tray[-1,1]],args=(None,p))\n",
    "    ssx,sss = sol.x\n",
    "    \n",
    "    ## Calculate independent rates\n",
    "    rate = rates(tray.T,None,p)\n",
    "    \n",
    "    \n",
    "    kw_streams = {'density':2,'linewidth':1.5,'arrowsize':0.8,\n",
    "              'arrowstyle':'->','color':'k','minlength':0.1}\n",
    "\n",
    "    fig = plt.figure(figsize=[12,6])\n",
    "    gs = gridspec.GridSpec(6, 12)\n",
    "    ax = fig.add_subplot(gs[:,:6])\n",
    "    ax.set_aspect(\"equal\")\n",
    "    ax.streamplot(x,s,dx,ds,**kw_streams,zorder=2)\n",
    "    ax.scatter([0,ssx],[1,sss],s=250,clip_on=False,ec='k',label=\"Steady-states\",zorder=3)\n",
    "    ax.scatter(tray[0,0],tray[0,1],s=250,marker='X',clip_on=False,ec='k',\n",
    "               label=r\"$(x_0,s_0)$\",zorder=4,c='wheat')\n",
    "    \n",
    "    if ssx < 0.0001:\n",
    "        ax.annotate(\"Washout\",\n",
    "                  xy=(0.0, 0.99), xycoords='data',\n",
    "                  xytext=(0.5, 0.5), textcoords='data',\n",
    "                  size=20, va=\"center\", ha=\"center\",\n",
    "                  bbox=dict(boxstyle=\"round4\", fc=\"pink\", ec=\"red\"),\n",
    "                  arrowprops=dict(arrowstyle=\"-|>\",\n",
    "                                  connectionstyle=\"arc3,rad=-0.2\",\n",
    "                                  fc=\"w\",ec='red'))\n",
    "    \n",
    "    ax.plot(tray.T[0],tray.T[1],lw=5,c='purple')\n",
    "\n",
    "    ax.grid(True,ls='dashed',lw=1,c=[0.5,0.5,0.5,0.5])\n",
    "    ax.set_xlabel(\"$x$ [-]\",)\n",
    "    ax.set_ylabel(\"$s$ [-]\")\n",
    "    ax.set(xlim=[0,1],ylim=[0,1])\n",
    "    ax.legend(loc='upper right',fontsize=10)\n",
    "\n",
    "    pax = fig.add_subplot(gs[:3,7:])\n",
    "    pax.set_facecolor(\"#F5DEB343\")\n",
    "    for variable in tray.T:\n",
    "        pax.plot(time,variable,lw=3)\n",
    "    pax.set_ylim([0,1])\n",
    "    pax.set_xlim(left=0)\n",
    "    pax.set_ylabel(r'Non-dim concentration',fontsize=8)\n",
    "    pax.axes.get_xaxis().set_visible(False)\n",
    "    pax.legend([r'$x(\\tau)$',r'$s(\\tau)$'],fontsize=10)\n",
    "\n",
    "    rax = fig.add_subplot(gs[3:,7:])\n",
    "    rax.sharex(pax)\n",
    "    rax.set_facecolor(\"white\")\n",
    "    rax2 = rax.twinx()\n",
    "    \n",
    "    p1, = rax.plot(time,rate[0],lw=3,label=r'$\\frac{Q}{V}(\\tau) \\: \\mathsf{[m^3/d]}$',c='b')\n",
    "    p2, = rax2.plot(time,rate[1],lw=3,label=r'$r_{\\rm ut}(\\tau) \\: \\mathsf{[mg/d/m^3]}$',c='r')\n",
    "    rax.legend(handles=[p1,p2],fontsize=10)\n",
    "    \n",
    "    rax.set_xlim(left=0)\n",
    "    rax.set_ylim(bottom=0)\n",
    "    rax2.set_ylim(bottom=0)\n",
    "                 \n",
    "    rax.set_xlabel(r'$\\tau$')\n",
    "    rax.set_ylabel(r'Dilution rate $Q/V$',fontsize=8)\n",
    "    rax2.set_ylabel(r'Rate substrate util. $r_{\\rm ut}$',fontsize=8)\n",
    "    plt.show();\n",
    "  \n",
    "    return None\n",
    "\n",
    "def updateFig(b):\n",
    "    plotStream();"
   ]
  },
  {
   "cell_type": "code",
   "execution_count": 9,
   "id": "3a025c93-6a84-43a8-a2fb-0d8929c773af",
   "metadata": {},
   "outputs": [],
   "source": [
    "x_init = wd.FloatSlider(value=0.01,min=0,max=1.0,step=0.01,description=r\"$x_0$\")\n",
    "s_init = wd.FloatSlider(value=0.99,min=0,max=1.0,step=0.01,description=r\"$s_0$\")\n",
    "init = [x_init,s_init]\n",
    "\n",
    "updateFig(True);"
   ]
  },
  {
   "cell_type": "code",
   "execution_count": 10,
   "id": "2041ac41-5680-4094-a4f2-ea67aceb6aba",
   "metadata": {},
   "outputs": [
    {
     "data": {
      "application/vnd.jupyter.widget-view+json": {
       "model_id": "6b486dc9461e45e9a8a937e5b66c6e6c",
       "version_major": 2,
       "version_minor": 0
      },
      "text/plain": [
       "VBox(children=(Accordion(children=(HTMLMath(value='\\\\begin{equation}\\n\\\\begin{array}{rcl}\\n    \\\\dfrac{dX}{dt}…"
      ]
     },
     "metadata": {},
     "output_type": "display_data"
    }
   ],
   "source": [
    "plotButton = wd.Button(description=\"Plot!\",icon='drafting-compass')\n",
    "plotButton.on_click(updateFig)\n",
    "\n",
    "gs = wd.GridspecLayout(12,2)\n",
    "gs[0:5,0] = wd.VBox(list(df[\"Slider\"]),layout=wd.Layout(align_items='stretch'))\n",
    "gs[0:4,1] = wd.VBox(list(nd[\"Slider\"])+[x_init,s_init])\n",
    "gs[4,1] = plotButton\n",
    "gs[5:,:] = wd.HBox([output])\n",
    "\n",
    "accordion = wd.Accordion(eqTexs,layout=wd.Layout(align_items='stretch'))\n",
    "accordion.selected_index = None\n",
    "accordion.set_title(0,'Governing ODEs')\n",
    "accordion.set_title(1,'Nondimensionalization')\n",
    "accordion.set_title(2,'Non-dimensional ODEs')\n",
    "accordion.set_title(3,'Steady-state solution')\n",
    "\n",
    "mainBox = wd.VBox([accordion,gs])\n",
    "display(mainBox)"
   ]
  }
 ],
 "metadata": {
  "kernelspec": {
   "display_name": "Python 3 (ipykernel)",
   "language": "python",
   "name": "python3"
  },
  "language_info": {
   "codemirror_mode": {
    "name": "ipython",
    "version": 3
   },
   "file_extension": ".py",
   "mimetype": "text/x-python",
   "name": "python",
   "nbconvert_exporter": "python",
   "pygments_lexer": "ipython3",
   "version": "3.8.10"
  }
 },
 "nbformat": 4,
 "nbformat_minor": 5
}

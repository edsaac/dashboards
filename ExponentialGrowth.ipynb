{
 "cells": [
  {
   "cell_type": "markdown",
   "id": "2422accc-29b4-4765-b20a-00b3ea2c92d1",
   "metadata": {},
   "source": [
    "# **Dynamical system**\n",
    "by: Edwin Saavedra C."
   ]
  },
  {
   "cell_type": "code",
   "execution_count": 1,
   "id": "2b4dd3c3-7aa1-4f26-b572-d899580d0279",
   "metadata": {},
   "outputs": [],
   "source": [
    "#%matplotlib widget\n",
    "import numpy as np\n",
    "import matplotlib.pyplot as plt\n",
    "import ipywidgets as wd\n",
    "import sympy as sp\n",
    "from IPython.display import display"
   ]
  },
  {
   "cell_type": "code",
   "execution_count": 2,
   "id": "ea20077e-55a0-444f-b261-cc4dd434df5d",
   "metadata": {},
   "outputs": [],
   "source": [
    "## MATPLOTLIB rcParams\n",
    "plt.rcParams['axes.labelsize'] = 14\n",
    "plt.rcParams['axes.labelweight'] = 'medium'\n",
    "plt.rcParams['axes.labelpad'] = 5.0\n",
    "plt.rcParams['legend.fontsize'] = 10\n",
    "plt.rcParams['axes.edgecolor'] = 'gray'"
   ]
  },
  {
   "cell_type": "code",
   "execution_count": 3,
   "id": "6eb7fb2f-dd0a-463f-bc18-095625943fe0",
   "metadata": {},
   "outputs": [],
   "source": [
    "def buildEquations(pi):\n",
    "    x,c = sp.symbols('x c')\n",
    "    dxdtEq = sp.Eq(pi[4]*x*c/(pi[1]+c)*(1-x) - pi[5]*x,0)\n",
    "    dcdtEq = sp.Eq(-pi[0]*x*c/(pi[1]+c)*(1-x) + pi[2]*sp.exp(-pi[3]*x)*(1-c),0)\n",
    "    return dxdtEq,dcdtEq"
   ]
  },
  {
   "cell_type": "code",
   "execution_count": 4,
   "id": "c4cf94ea-9349-4f4f-871b-e0974ff41e99",
   "metadata": {},
   "outputs": [],
   "source": [
    "def stream(x,c,pi):\n",
    "    dxdt =  pi[4]*x*c/(pi[1]+c)*(1-x) - pi[5]*x\n",
    "    dcdt = -pi[0]*x*c/(pi[1]+c)*(1-x) + pi[2]*np.exp(-pi[3]*x)*(1-c)\n",
    "    return dxdt,dcdt\n",
    "\n",
    "def rateAsColors(x,c,pi):\n",
    "    rateC = pi[0]*c/(pi[1]+c)*(1-x)  #Substrate consumption\n",
    "    rateQ = pi[2]*np.exp(-pi[3]*x)   #Water inflow\n",
    "    rate0 = np.zeros_like(rateC)\n",
    "    return np.stack(([rateC,rate0,rateQ]),axis=-1)\n",
    "\n",
    "xlin = np.linspace(0,1.0,31)\n",
    "clin = np.linspace(0,1.0,31)\n",
    "x,c   = np.meshgrid(xlin,clin)"
   ]
  },
  {
   "cell_type": "code",
   "execution_count": 5,
   "id": "c3965b7b-8b49-457d-8aa1-b47eb1b3ca81",
   "metadata": {},
   "outputs": [],
   "source": [
    "piBoxVals = [1,0.1,0.7,1.5,0.7,0.1]\n",
    "piBoxes   = [wd.HTMLMath(str(i)) for i in range(6)]\n",
    "\n",
    "paramValues = [2.0,2.0,0.20,1.4,1.5,0.7,0.2,2.0]\n",
    "parameters = [r'X_{\\rm max}',r'C_\\infty',r'K_C',r'Q',r'\\beta',r'Y',r'k_{\\rm die}',r'\\hat{\\mu}']\n",
    "KSliders   = [wd.FloatSlider(value=v,min=0,max=2,step=0.01,description=f'${k}$') for k,v in zip(parameters,paramValues)]"
   ]
  },
  {
   "cell_type": "code",
   "execution_count": 6,
   "id": "541d0834-69c0-4d8d-81ac-e98fa0341841",
   "metadata": {},
   "outputs": [],
   "source": [
    "def buildPiBoxes():\n",
    "    global piBoxVals\n",
    "    global piBoxes\n",
    "    for i,(p,val) in enumerate(zip(piBoxes,piBoxVals)):\n",
    "        p.value = rf\"$\\pi_{{{i}}} = {{{val}}}$\"\n",
    "\n",
    "def updatePi(change):\n",
    "    global piBoxVals\n",
    "    piBoxVals[0] = KSliders[0].value/KSliders[1].value\n",
    "    piBoxVals[1] = KSliders[2].value/KSliders[1].value\n",
    "    piBoxVals[2] = KSliders[3].value/KSliders[7].value\n",
    "    piBoxVals[3] = KSliders[4].value\n",
    "    piBoxVals[4] = KSliders[5].value\n",
    "    piBoxVals[5] = KSliders[6].value/KSliders[7].value\n",
    "    \n",
    "    piBoxVals = [round(p,2) for p in piBoxVals]\n",
    "    buildPiBoxes()\n",
    "    return None\n",
    "    \n",
    "for slider in KSliders:\n",
    "    slider.observe(updatePi,'value')\n",
    "    \n",
    "updatePi(1)"
   ]
  },
  {
   "cell_type": "markdown",
   "id": "8dfdec70-5929-4ffd-9619-44fcb0ccaff6",
   "metadata": {},
   "source": [
    "[![Binder](https://mybinder.org/badge_logo.svg)](https://mybinder.org/v2/gh/edsaac/dashboards/HEAD?urlpath=voila%2Frender%2FExponentialGrowth.ipynb)"
   ]
  },
  {
   "cell_type": "code",
   "execution_count": 7,
   "id": "cd015ad8-892e-4773-9b1e-96db3f4af33f",
   "metadata": {},
   "outputs": [],
   "source": [
    "whitespace = wd.HTML(\"&nbsp;&nbsp;<b>&#8594;</b>&nbsp;&nbsp;\")\n",
    "layout = wd.Layout(justify_content='center',align_items='center')\n",
    "\n",
    "eqTex0 = wd.HTMLMath(r'''\\begin{equation}\n",
    "\\begin{array}{rcl}\n",
    "    \\dfrac{dC}{dt} &=& -\\hat{\\mu}X\\dfrac{C}{K_C + C}\\left(1-\\dfrac{X}{X_{\\rm max}}\\right) + Q(C_\\infty-C)\\exp{\\left(-\\beta \\dfrac{X}{X_{\\rm max}}\\right)} \\\\\n",
    "    \\dfrac{dX}{dt} &=& Y\\hat{\\mu}X\\dfrac{C}{K_C + C}\\left(1-\\dfrac{X}{X_{\\rm max}}\\right) - k_{\\rm die}X\n",
    "\\end{array}\n",
    "\\end{equation}''',layout=layout)\n",
    "\n",
    "eqTex1_1 = wd.HTMLMath(r'''\\begin{equation*}\n",
    "\\begin{array}{rcl}\n",
    "    c &=& C/C_\\infty \\\\\n",
    "    x &=& X/X_{\\rm max} \\\\\n",
    "    \\tau &=& \\hat{\\mu}t \\\\\n",
    "\\end{array}\n",
    "\\end{equation*}''')\n",
    "\n",
    "eqTex1_2 = wd.HTMLMath(r'''\\begin{equation*}\n",
    "\\begin{array}{rcl}\n",
    "    \\pi_0 &=& X_{\\rm max}/C_\\infty \\\\\n",
    "    \\pi_1 &=& K_C/C_\\infty \\\\\n",
    "    \\pi_2 &=& Q/\\hat{\\mu} \\\\\n",
    "    \\pi_3 &=& \\beta \\\\\n",
    "    \\pi_4 &=& Y \\\\\n",
    "    \\pi_5 &=& k_{\\rm die}/\\hat{\\mu}\n",
    "\\end{array}\n",
    "\\end{equation*}''',)\n",
    "\n",
    "eqTex1 = wd.HBox([eqTex1_1,whitespace,eqTex1_2],layout=layout)\n",
    "\n",
    "eqTex2 = wd.HTMLMath(r'''\\begin{equation}\n",
    "\\begin{array}{rcl}\n",
    "    \\dfrac{dc}{d\\tau} &=& -\\pi_0 x\\dfrac{c}{\\pi_1 + c}(1-x) + \\pi_2(1-c)\\exp{\\left(-\\pi_3 x\\right)} \\\\\n",
    "    \\dfrac{dx}{d\\tau} &=& \\pi_4 x\\dfrac{c}{\\pi_1 + c}(1-x) - \\pi_5 x\n",
    "\\end{array}\n",
    "\\end{equation}''',layout=layout)\n",
    "\n",
    "eqTexs = [eqTex0,eqTex1,eqTex2]"
   ]
  },
  {
   "cell_type": "code",
   "execution_count": 8,
   "id": "11a7eaa2-e8a2-4f2f-9e63-459563efc3b4",
   "metadata": {},
   "outputs": [
    {
     "data": {
      "application/vnd.jupyter.widget-view+json": {
       "model_id": "434bb7c676a245fab4e57ce66307f52c",
       "version_major": 2,
       "version_minor": 0
      },
      "text/plain": [
       "VBox(children=(Accordion(children=(HTMLMath(value='\\\\begin{equation}\\n\\\\begin{array}{rcl}\\n    \\\\dfrac{dC}{dt}…"
      ]
     },
     "metadata": {},
     "output_type": "display_data"
    }
   ],
   "source": [
    "kw_streams = {'density':1,'linewidth':1.5,'arrowsize':0.8,\n",
    "              'arrowstyle':'->','color':[1,1,1,0.5],'minlength':0.2}\n",
    "\n",
    "output = wd.Output(layout=layout)\n",
    "\n",
    "@output.capture(clear_output=True)\n",
    "def plotStream(x,c,dx,dc,imBands):\n",
    "    eq1,eq2 = buildEquations(piBoxVals)\n",
    "    ans = sp.solvers.solvers.nsolve((eq1,eq2),sp.symbols('x c'),(0.8,0.4))\n",
    "    \n",
    "    fig,ax = plt.subplots(figsize=[8,6])\n",
    "    ax.imshow(imBands,extent=[0,1,0,1],zorder=1)\n",
    "    ax.streamplot(x,c,dx,dc,**kw_streams,zorder=2)\n",
    "    \n",
    "    ## Steady states\n",
    "    ax.scatter([0],[1],s=200,c='limegreen',label='Trivial\\nsteady-state',zorder=7,clip_on=False,ec='k')\n",
    "    ax.scatter([float(ans[0])],[float(ans[1])],s=200,c='darkorange',label='Non-trivial\\nsteady-state',zorder=7,ec='k')\n",
    "    \n",
    "    ax.grid(True,ls='dashed',lw=1,c=[0.5,0.5,0.5,0.5])\n",
    "    ax.set_ylabel(\"$c$ [-]\",)\n",
    "    ax.set_xlabel(\"$x$ [-]\")\n",
    "    ax.legend(loc='upper right')\n",
    "    ax.set(xlim=[0,1],ylim=[0,1])\n",
    "    \n",
    "    plt.subplots_adjust(left=0.1, right=0.65, top=0.85)\n",
    "    cax = fig.add_axes([0.7,0.45,0.2,0.2])\n",
    "    \n",
    "    Legend = np.dstack((x, np.zeros_like(x), c))\n",
    "    cax.imshow(Legend, origin=\"lower\", extent=[0,1,0,1])\n",
    "    cax.set_ylabel(\"Flow rate\",)\n",
    "    cax.set_xlabel(\"Reac rate\")\n",
    "    cax.set_xticks([0,1])\n",
    "    cax.set_yticks([0,1])\n",
    "    \n",
    "    plt.show();\n",
    "\n",
    "def updateFig(b):\n",
    "    dx,dc = stream(x,c,piBoxVals)\n",
    "    imBands = rateAsColors(x,c,piBoxVals)\n",
    "    plotStream(x,c,dx,dc,imBands);\n",
    "    return None\n",
    "\n",
    "updateFig(1);\n",
    "\n",
    "plotButton = wd.Button(description=\"Plot!\",icon='drafting-compass')\n",
    "plotButton.on_click(updateFig)\n",
    "\n",
    "gs = wd.GridspecLayout(12,2)\n",
    "gs[0:5,0] = wd.VBox(KSliders)\n",
    "gs[0:4,1] = wd.VBox(piBoxes)\n",
    "gs[4,1] = plotButton\n",
    "gs[5:,:] = wd.HBox([output])\n",
    "\n",
    "accordion = wd.Accordion(eqTexs,layout=wd.Layout(align_items='stretch'))\n",
    "accordion.selected_index = None\n",
    "accordion.set_title(0,'Governing ODEs')\n",
    "accordion.set_title(1,'Nondimensionalization')\n",
    "accordion.set_title(2,'Non-dimensional ODEs')\n",
    "\n",
    "mainBox = wd.VBox([accordion,gs])\n",
    "display(mainBox)"
   ]
  },
  {
   "cell_type": "code",
   "execution_count": null,
   "id": "e7b5196f-b3be-4575-9be4-f414401ebf28",
   "metadata": {},
   "outputs": [],
   "source": []
  }
 ],
 "metadata": {
  "kernelspec": {
   "display_name": "Python 3 (ipykernel)",
   "language": "python",
   "name": "python3"
  },
  "language_info": {
   "codemirror_mode": {
    "name": "ipython",
    "version": 3
   },
   "file_extension": ".py",
   "mimetype": "text/x-python",
   "name": "python",
   "nbconvert_exporter": "python",
   "pygments_lexer": "ipython3",
   "version": "3.8.10"
  }
 },
 "nbformat": 4,
 "nbformat_minor": 5
}

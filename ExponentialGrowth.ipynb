{
 "cells": [
  {
   "cell_type": "code",
   "execution_count": 1,
   "id": "2b4dd3c3-7aa1-4f26-b572-d899580d0279",
   "metadata": {},
   "outputs": [],
   "source": [
    "%matplotlib widget\n",
    "import numpy as np\n",
    "import matplotlib.pyplot as plt\n",
    "import ipywidgets as wd\n",
    "from IPython.display import display"
   ]
  },
  {
   "cell_type": "code",
   "execution_count": 2,
   "id": "c4cf94ea-9349-4f4f-871b-e0974ff41e99",
   "metadata": {},
   "outputs": [],
   "source": [
    "def stream(x,c,pi):\n",
    "    dxdt =  pi[4]*x*c/(pi[1]+c)*(1-x) - pi[5]*x\n",
    "    dcdt = -pi[0]*x*c/(pi[1]+c)*(1-x) + pi[2]*np.exp(-pi[3]*x)*(1-c)\n",
    "    return dxdt,dcdt\n",
    "\n",
    "xlin = np.linspace(0,2,51)\n",
    "clin = np.linspace(0,1.1,51)\n",
    "x,c   = np.meshgrid(xlin,clin)"
   ]
  },
  {
   "cell_type": "code",
   "execution_count": 3,
   "id": "8a77619a-9c1f-4c0b-8b98-15e2983a79fe",
   "metadata": {},
   "outputs": [],
   "source": [
    "eqTex = {\"Gov. Eqs.\":{\n",
    "            'dCdt' : wd.HTMLMath(r\"$\\dfrac{dC}{dt} = -\\hat{\\mu}X\\dfrac{C}{K_C + C} + (C_\\infty-C)\\exp{\\left(-\\beta \\dfrac{X}{X_{\\rm max}}\\right)}$\"),\n",
    "            'dXdt' : wd.HTMLMath(r\"$\\dfrac{dX}{dt} = Y\\hat{\\mu}X\\dfrac{C}{K_C + C} - k_{\\rm die}X$\")},\n",
    "         \"Nondim Eqs.\":{\n",
    "             'dcdt' : wd.HTMLMath(r\"$\\dfrac{dc}{d\\tau} = -\\pi_1 x\\dfrac{c}{\\pi_2 + c} + (1-c)\\exp{\\left(-\\pi_4 x\\right)}$\"),\n",
    "             'dxdt' : wd.HTMLMath(r\"$\\dfrac{dx}{d\\tau} = \\pi_5 x\\dfrac{c}{\\pi_2 + c} - \\pi_6 x$\")},\n",
    "         \"Π\":{\n",
    "             'pi0'  : wd.HTMLMath(r\"$\\pi_0 = X_{\\rm max}/C_\\infty$\"),\n",
    "             'pi1'  : wd.HTMLMath(r\"$\\pi_1 = K_C/C_\\infty$\"),\n",
    "             'pi2'  : wd.HTMLMath(r\"$\\pi_2 = \\alpha/\\hat{\\mu}$\"),\n",
    "             'pi3'  : wd.HTMLMath(r\"$\\pi_3 = \\beta$\"),\n",
    "             'pi4'  : wd.HTMLMath(r\"$\\pi_4 = Y$\"),\n",
    "             'pi5'  : wd.HTMLMath(r\"$\\pi_5 = k_{\\rm die}/\\hat{\\mu}$\")}}"
   ]
  },
  {
   "cell_type": "code",
   "execution_count": 6,
   "id": "88263583-c47a-4052-a8fb-b760139e3253",
   "metadata": {},
   "outputs": [],
   "source": [
    "parameters = [r'X_{\\rm max}',r'C_\\infty',r'K_C',r'\\alpha',r'\\beta',r'Y',r'k_{\\rm die}',r'\\hat{\\mu}']\n",
    "KSliders = [wd.FloatSlider(value=1,min=0,max=10,step=0.1,description=f'${k}$') for k in parameters]\n",
    "piBoxes  = [wd.FloatText(description=fr'$\\pi_{{{i}}}$',disabled=True,layout=wd.Layout(width=\"50%\")) for i in range(6)]\n",
    "\n",
    "def pi(change):\n",
    "    piBoxes[0].value = KSliders[0].value/KSliders[1].value\n",
    "    piBoxes[1].value = KSliders[2].value/KSliders[1].value\n",
    "    piBoxes[2].value = KSliders[3].value/KSliders[7].value\n",
    "    piBoxes[3].value = KSliders[4].value\n",
    "    piBoxes[4].value = KSliders[5].value\n",
    "    piBoxes[5].value = KSliders[6].value/KSliders[7].value\n",
    "    \n",
    "    for piBox in piBoxes: piBox.value = round(piBox.value,2)\n",
    "    return None\n",
    "    \n",
    "for slider in KSliders:\n",
    "    slider.observe(pi,'value')\n",
    "    \n",
    "pi(0)"
   ]
  },
  {
   "cell_type": "code",
   "execution_count": 7,
   "id": "4ba479a6-4737-4f81-9b61-3c086beb6cdb",
   "metadata": {},
   "outputs": [
    {
     "data": {
      "application/vnd.jupyter.widget-view+json": {
       "model_id": "55baf248bf364e54b8071d99f378becb",
       "version_major": 2,
       "version_minor": 0
      },
      "text/plain": [
       "HBox(children=(Tab(children=(VBox(children=(HTMLMath(value='$\\\\dfrac{dC}{dt} = -\\\\hat{\\\\mu}X\\\\dfrac{C}{K_C + C…"
      ]
     },
     "metadata": {},
     "output_type": "display_data"
    },
    {
     "data": {
      "application/vnd.jupyter.widget-view+json": {
       "model_id": "03adcaecaaed4892b04dd146e1469cbf",
       "version_major": 2,
       "version_minor": 0
      },
      "text/plain": [
       "Output()"
      ]
     },
     "metadata": {},
     "output_type": "display_data"
    },
    {
     "data": {
      "application/vnd.jupyter.widget-view+json": {
       "model_id": "83f168ac519d478b88c307f79e66d39e",
       "version_major": 2,
       "version_minor": 0
      },
      "text/html": [
       "\n",
       "            <div style=\"display: inline-block;\">\n",
       "                <div class=\"jupyter-widgets widget-label\" style=\"text-align: center;\">\n",
       "                    Figure\n",
       "                </div>\n",
       "                <img src='data:image/png;base64,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' width=400.0/>\n",
       "            </div>\n",
       "        "
      ],
      "text/plain": [
       "Canvas(toolbar=Toolbar(toolitems=[('Home', 'Reset original view', 'home', 'home'), ('Back', 'Back to previous …"
      ]
     },
     "metadata": {},
     "output_type": "display_data"
    }
   ],
   "source": [
    "kw_streams = {'density':2,'linewidth':0.5,'arrowsize':0.5,\n",
    "              'arrowstyle':'->','color':'k','minlength':0.2}\n",
    "\n",
    "output = wd.Output()\n",
    "with output:\n",
    "    fig,ax = plt.subplots(figsize=[4,3],constrained_layout=True)\n",
    "\n",
    "def updateFig(b):\n",
    "    ax.cla()\n",
    "    piArray = [slider.value for slider in piBoxes]\n",
    "    dx,dc = stream(x,c,piArray)\n",
    "    ax.streamplot(x,c,dx,dc,**kw_streams)\n",
    "    ax.grid(True)\n",
    "    plt.show()\n",
    "\n",
    "tabs = wd.Tab(layout=wd.Layout())\n",
    "children = []\n",
    "\n",
    "for i,(TAB,DICT) in enumerate(eqTex.items()):\n",
    "    tabs.set_title(i,TAB)\n",
    "    block = wd.VBox([v for v in DICT.values()])\n",
    "    children.append(block)\n",
    "\n",
    "tabs.children=children\n",
    "plotButton = wd.Button(description=\"Plot!\",layout=wd.Layout(width=\"40%\"))\n",
    "plotButton.on_click(updateFig)\n",
    "\n",
    "mainBox = wd.HBox([tabs,wd.VBox(KSliders),wd.VBox(piBoxes+[plotButton],layout=wd.Layout(align_items=\"flex-end\"))])\n",
    "display(mainBox,output)"
   ]
  },
  {
   "cell_type": "code",
   "execution_count": null,
   "id": "ecd402a4-be03-4c62-a6c3-f96632cd70ff",
   "metadata": {},
   "outputs": [],
   "source": []
  }
 ],
 "metadata": {
  "kernelspec": {
   "display_name": "Python 3 (ipykernel)",
   "language": "python",
   "name": "python3"
  },
  "language_info": {
   "codemirror_mode": {
    "name": "ipython",
    "version": 3
   },
   "file_extension": ".py",
   "mimetype": "text/x-python",
   "name": "python",
   "nbconvert_exporter": "python",
   "pygments_lexer": "ipython3",
   "version": "3.8.10"
  }
 },
 "nbformat": 4,
 "nbformat_minor": 5
}

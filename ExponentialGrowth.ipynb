{
 "cells": [
  {
   "cell_type": "markdown",
   "id": "2422accc-29b4-4765-b20a-00b3ea2c92d1",
   "metadata": {},
   "source": [
    "# **Dynamical system**\n",
    "by: Edwin Saavedra C."
   ]
  },
  {
   "cell_type": "code",
   "execution_count": 1,
   "id": "2b4dd3c3-7aa1-4f26-b572-d899580d0279",
   "metadata": {},
   "outputs": [],
   "source": [
    "#%matplotlib widget\n",
    "import numpy as np\n",
    "import matplotlib.pyplot as plt\n",
    "import ipywidgets as wd\n",
    "from IPython.display import display"
   ]
  },
  {
   "cell_type": "code",
   "execution_count": 2,
   "id": "ea20077e-55a0-444f-b261-cc4dd434df5d",
   "metadata": {},
   "outputs": [],
   "source": [
    "## MATPLOTLIB rcParams\n",
    "plt.rcParams['font.family'] = 'Purisa'\n",
    "plt.rcParams['axes.labelsize'] = 14\n",
    "plt.rcParams['axes.labelweight'] = 'medium'\n",
    "plt.rcParams['axes.labelpad'] = 5.0\n",
    "plt.rcParams['legend.fontsize'] = 10\n",
    "plt.rcParams['axes.edgecolor'] = 'gray'"
   ]
  },
  {
   "cell_type": "code",
   "execution_count": 3,
   "id": "c4cf94ea-9349-4f4f-871b-e0974ff41e99",
   "metadata": {},
   "outputs": [],
   "source": [
    "def stream(x,c,pi):\n",
    "    dxdt =  pi[4]*x*c/(pi[1]+c)*(1-x) - pi[5]*x\n",
    "    dcdt = -pi[0]*x*c/(pi[1]+c)*(1-x) + pi[2]*np.exp(-pi[3]*x)*(1-c)\n",
    "    return dxdt,dcdt\n",
    "\n",
    "xlin = np.linspace(0,1.2,31)\n",
    "clin = np.linspace(0,1.2,31)\n",
    "x,c   = np.meshgrid(xlin,clin)"
   ]
  },
  {
   "cell_type": "code",
   "execution_count": 4,
   "id": "88263583-c47a-4052-a8fb-b760139e3253",
   "metadata": {},
   "outputs": [],
   "source": [
    "parameters = [r'X_{\\rm max}',r'C_\\infty',r'K_C',r'\\alpha',r'\\beta',r'Y',r'k_{\\rm die}',r'\\hat{\\mu}']\n",
    "KSliders = [wd.FloatSlider(value=1,min=0,max=10,step=0.1,description=f'${k}$') for k in parameters]\n",
    "piBoxes  = [wd.FloatText(description=fr'$\\pi_{{{i}}}$',disabled=True,layout=wd.Layout(width=\"50%\")) for i in range(6)]\n",
    "\n",
    "def pi(change):\n",
    "    piBoxes[0].value = KSliders[0].value/KSliders[1].value\n",
    "    piBoxes[1].value = KSliders[2].value/KSliders[1].value\n",
    "    piBoxes[2].value = KSliders[3].value/KSliders[7].value\n",
    "    piBoxes[3].value = KSliders[4].value\n",
    "    piBoxes[4].value = KSliders[5].value\n",
    "    piBoxes[5].value = KSliders[6].value/KSliders[7].value\n",
    "    \n",
    "    for piBox in piBoxes: piBox.value = round(piBox.value,2)\n",
    "    return None\n",
    "    \n",
    "for slider in KSliders:\n",
    "    slider.observe(pi,'value')\n",
    "    \n",
    "pi(0)"
   ]
  },
  {
   "cell_type": "markdown",
   "id": "8dfdec70-5929-4ffd-9619-44fcb0ccaff6",
   "metadata": {},
   "source": [
    "[![Binder](https://mybinder.org/badge_logo.svg)](https://mybinder.org/v2/gh/edsaac/dashboards/HEAD?urlpath=voila%2Frender%2FExponentialGrowth.ipynb)"
   ]
  },
  {
   "cell_type": "code",
   "execution_count": 5,
   "id": "cd015ad8-892e-4773-9b1e-96db3f4af33f",
   "metadata": {},
   "outputs": [],
   "source": [
    "whitespace = wd.HTML(\"&nbsp;&nbsp;<b>&#8594;</b>&nbsp;&nbsp;\")\n",
    "layout = wd.Layout(justify_content='center',align_items='center')\n",
    "\n",
    "eqTex0 = wd.HTMLMath(r'''\\begin{equation}\n",
    "\\begin{array}{rcl}\n",
    "    \\dfrac{dC}{dt} &=& -\\hat{\\mu}X\\dfrac{C}{K_C + C} + (C_\\infty-C)\\exp{\\left(-\\beta \\dfrac{X}{X_{\\rm max}}\\right)} \\\\\n",
    "    \\dfrac{dX}{dt} &=& Y\\hat{\\mu}X\\dfrac{C}{K_C + C} - k_{\\rm die}X\n",
    "\\end{array}\n",
    "\\end{equation}''',layout=layout)\n",
    "\n",
    "eqTex1_1 = wd.HTMLMath(r'''\\begin{equation}\n",
    "\\begin{array}{rcl}\n",
    "    c &=& C/C_\\infty \\\\\n",
    "    x &=& X/X_{\\rm max} \\\\\n",
    "    \\tau &=& \\hat{\\mu}t \\\\\n",
    "\\end{array}\n",
    "\\end{equation}''')\n",
    "\n",
    "eqTex1_2 = wd.HTMLMath(r'''\\begin{equation}\n",
    "\\begin{array}{rcl}\n",
    "    \\pi_0 &=& X_{\\rm max}/C_\\infty \\\\\n",
    "    \\pi_1 &=& K_C/C_\\infty \\\\\n",
    "    \\pi_2 &=& \\alpha/\\hat{\\mu} \\\\\n",
    "    \\pi_3 &=& \\beta \\\\\n",
    "    \\pi_4 &=& Y \\\\\n",
    "    \\pi_5 &=& k_{\\rm die}/\\hat{\\mu}\n",
    "\\end{array}\n",
    "\\end{equation}''',)\n",
    "\n",
    "eqTex1 = wd.HBox([eqTex1_1,whitespace,eqTex1_2],layout=layout)\n",
    "\n",
    "eqTex2 = wd.HTMLMath(r'''\\begin{equation}\n",
    "\\begin{array}{rcl}\n",
    "    \\dfrac{dc}{d\\tau} &=& -\\pi_0 x\\dfrac{c}{\\pi_1 + c} + \\pi_2(1-c)\\exp{\\left(-\\pi_3 x\\right)} \\\\\n",
    "    \\dfrac{dx}{d\\tau} &=& \\pi_4 x\\dfrac{c}{\\pi_1 + c} - \\pi_5 x\n",
    "\\end{array}\n",
    "\\end{equation}''',layout=layout)\n",
    "\n",
    "eqTexs = [eqTex0,eqTex1,eqTex2]"
   ]
  },
  {
   "cell_type": "code",
   "execution_count": 6,
   "id": "11a7eaa2-e8a2-4f2f-9e63-459563efc3b4",
   "metadata": {},
   "outputs": [
    {
     "data": {
      "application/vnd.jupyter.widget-view+json": {
       "model_id": "c91f1667d3114df9b7bc1a46e0283002",
       "version_major": 2,
       "version_minor": 0
      },
      "text/plain": [
       "VBox(children=(Accordion(children=(HTMLMath(value='\\\\begin{equation}\\n\\\\begin{array}{rcl}\\n    \\\\dfrac{dC}{dt}…"
      ]
     },
     "metadata": {},
     "output_type": "display_data"
    }
   ],
   "source": [
    "kw_streams = {'density':2,'linewidth':1,'arrowsize':0.5,\n",
    "              'arrowstyle':'->','color':'darkmagenta','minlength':0.2}\n",
    "\n",
    "output = wd.Output(layout=layout)\n",
    "\n",
    "@output.capture(clear_output=True)\n",
    "def plotStream(x,c,dx,dc):\n",
    "    fig,ax = plt.subplots(figsize=[8,6],constrained_layout=True)\n",
    "    ax.streamplot(x,c,dx,dc,**kw_streams)\n",
    "    ax.grid(True)\n",
    "    ax.set_ylabel(\"$c$ [-]\",)\n",
    "    ax.set_xlabel(\"$x$ [-]\")\n",
    "    plt.show();\n",
    "\n",
    "def updateFig(b):\n",
    "    piArray = [slider.value for slider in piBoxes]\n",
    "    dx,dc = stream(x,c,piArray)\n",
    "    plotStream(x,c,dx,dc);\n",
    "    return None\n",
    "\n",
    "updateFig(1);\n",
    "\n",
    "plotButton = wd.Button(description=\"Plot!\",icon='drafting-compass')\n",
    "plotButton.on_click(updateFig)\n",
    "\n",
    "gs = wd.GridspecLayout(12,2)\n",
    "gs[0:5,0] = wd.VBox(KSliders)\n",
    "gs[0:4,1] = wd.VBox(piBoxes)\n",
    "gs[4,1] = plotButton\n",
    "gs[5:,:] = wd.HBox([output])\n",
    "\n",
    "accordion = wd.Accordion(eqTexs,layout=wd.Layout(align_items='stretch'))\n",
    "accordion.selected_index = None\n",
    "accordion.set_title(0,'Governing ODEs')\n",
    "accordion.set_title(1,'Nondimensionalization')\n",
    "accordion.set_title(2,'Non-dimensional ODEs')\n",
    "\n",
    "mainBox = wd.VBox([accordion,gs])\n",
    "display(mainBox)"
   ]
  },
  {
   "cell_type": "code",
   "execution_count": null,
   "id": "1105bcb3-aa84-49ff-819a-b5f4a3362223",
   "metadata": {},
   "outputs": [],
   "source": []
  }
 ],
 "metadata": {
  "kernelspec": {
   "display_name": "Python 3 (ipykernel)",
   "language": "python",
   "name": "python3"
  },
  "language_info": {
   "codemirror_mode": {
    "name": "ipython",
    "version": 3
   },
   "file_extension": ".py",
   "mimetype": "text/x-python",
   "name": "python",
   "nbconvert_exporter": "python",
   "pygments_lexer": "ipython3",
   "version": "3.8.10"
  }
 },
 "nbformat": 4,
 "nbformat_minor": 5
}

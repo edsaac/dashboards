{
 "cells": [
  {
   "cell_type": "code",
   "execution_count": 1,
   "id": "2b4dd3c3-7aa1-4f26-b572-d899580d0279",
   "metadata": {},
   "outputs": [],
   "source": [
    "#%matplotlib widget\n",
    "import numpy as np\n",
    "import matplotlib.pyplot as plt\n",
    "import ipywidgets as wd\n",
    "from IPython.display import display"
   ]
  },
  {
   "cell_type": "code",
   "execution_count": 10,
   "id": "c4cf94ea-9349-4f4f-871b-e0974ff41e99",
   "metadata": {},
   "outputs": [],
   "source": [
    "def stream(x,c,pi):\n",
    "    dxdt =  pi[4]*x*c/(pi[1]+c)*(1-x) - pi[5]*x\n",
    "    dcdt = -pi[0]*x*c/(pi[1]+c)*(1-x) + pi[2]*np.exp(-pi[3]*x)*(1-c)\n",
    "    return dxdt,dcdt\n",
    "\n",
    "xlin = np.linspace(0,2,51)\n",
    "clin = np.linspace(0,1.2,51)\n",
    "x,c   = np.meshgrid(xlin,clin)"
   ]
  },
  {
   "cell_type": "raw",
   "id": "d211aae1-20f0-45e0-a3b2-8d7730cc883f",
   "metadata": {},
   "source": [
    "eqTex = {\"Gov. Eqs.\":{\n",
    "            'dCdt' : wd.HTMLMath(r\"$\\dfrac{dC}{dt} = -\\hat{\\mu}X\\dfrac{C}{K_C + C} + (C_\\infty-C)\\exp{\\left(-\\beta \\dfrac{X}{X_{\\rm max}}\\right)}$\"),\n",
    "            'dXdt' : wd.HTMLMath(r\"$\\dfrac{dX}{dt} = Y\\hat{\\mu}X\\dfrac{C}{K_C + C} - k_{\\rm die}X$\")},\n",
    "         \"Nondim Eqs.\":{\n",
    "             'dcdt' : wd.HTMLMath(r\"$\\dfrac{dc}{d\\tau} = -\\pi_1 x\\dfrac{c}{\\pi_2 + c} + (1-c)\\exp{\\left(-\\pi_4 x\\right)}$\"),\n",
    "             'dxdt' : wd.HTMLMath(r\"$\\dfrac{dx}{d\\tau} = \\pi_5 x\\dfrac{c}{\\pi_2 + c} - \\pi_6 x$\")},\n",
    "         \"Π\":{\n",
    "             'pi0'  : wd.HTMLMath(r\"$\\pi_0 = X_{\\rm max}/C_\\infty$\"),\n",
    "             'pi1'  : wd.HTMLMath(r\"$\\pi_1 = K_C/C_\\infty$\"),\n",
    "             'pi2'  : wd.HTMLMath(r\"$\\pi_2 = \\alpha/\\hat{\\mu}$\"),\n",
    "             'pi3'  : wd.HTMLMath(r\"$\\pi_3 = \\beta$\"),\n",
    "             'pi4'  : wd.HTMLMath(r\"$\\pi_4 = Y$\"),\n",
    "             'pi5'  : wd.HTMLMath(r\"$\\pi_5 = k_{\\rm die}/\\hat{\\mu}$\")}}"
   ]
  },
  {
   "cell_type": "code",
   "execution_count": 3,
   "id": "88263583-c47a-4052-a8fb-b760139e3253",
   "metadata": {},
   "outputs": [],
   "source": [
    "parameters = [r'X_{\\rm max}',r'C_\\infty',r'K_C',r'\\alpha',r'\\beta',r'Y',r'k_{\\rm die}',r'\\hat{\\mu}']\n",
    "KSliders = [wd.FloatSlider(value=1,min=0,max=10,step=0.1,description=f'${k}$') for k in parameters]\n",
    "piBoxes  = [wd.FloatText(description=fr'$\\pi_{{{i}}}$',disabled=True,layout=wd.Layout(width=\"50%\")) for i in range(6)]\n",
    "\n",
    "def pi(change):\n",
    "    piBoxes[0].value = KSliders[0].value/KSliders[1].value\n",
    "    piBoxes[1].value = KSliders[2].value/KSliders[1].value\n",
    "    piBoxes[2].value = KSliders[3].value/KSliders[7].value\n",
    "    piBoxes[3].value = KSliders[4].value\n",
    "    piBoxes[4].value = KSliders[5].value\n",
    "    piBoxes[5].value = KSliders[6].value/KSliders[7].value\n",
    "    \n",
    "    for piBox in piBoxes: piBox.value = round(piBox.value,2)\n",
    "    return None\n",
    "    \n",
    "for slider in KSliders:\n",
    "    slider.observe(pi,'value')\n",
    "    \n",
    "pi(0)"
   ]
  },
  {
   "cell_type": "raw",
   "id": "eb7d49a6-9af8-471d-8d11-a855d1b46b10",
   "metadata": {},
   "source": [
    "kw_streams = {'density':2,'linewidth':0.5,'arrowsize':0.5,\n",
    "              'arrowstyle':'->','color':'k','minlength':0.2}\n",
    "\n",
    "output = wd.Output()\n",
    "\n",
    "@output.capture(clear_output=True)\n",
    "def plotStream(x,c,dx,dc):\n",
    "    fig,ax = plt.subplots(figsize=[8,8],constrained_layout=True)\n",
    "    ax.streamplot(x,c,dx,dc,**kw_streams)\n",
    "    ax.grid(True)\n",
    "    plt.show();\n",
    "\n",
    "def updateFig(b):\n",
    "    piArray = [slider.value for slider in piBoxes]\n",
    "    dx,dc = stream(x,c,piArray)\n",
    "    plotStream(x,c,dx,dc);\n",
    "    return None\n",
    "\n",
    "tabs = wd.Tab(layout=wd.Layout())\n",
    "children = []\n",
    "\n",
    "for i,(TAB,DICT) in enumerate(eqTex.items()):\n",
    "    tabs.set_title(i,TAB)\n",
    "    block = wd.VBox([v for v in DICT.values()])\n",
    "    children.append(block)\n",
    "\n",
    "tabs.children=children\n",
    "plotButton = wd.Button(description=\"Plot!\",layout=wd.Layout(width=\"40%\"))\n",
    "plotButton.on_click(updateFig)\n",
    "\n",
    "#mainBox = wd.VBox([output,wd.HBox([tabs,wd.VBox(KSliders),wd.VBox(piBoxes+[plotButton],layout=wd.Layout(align_items=\"flex-end\"))])])\n",
    "layoutBox = wd.Layout(align_items='center',border='solid')\n",
    "mainBox = wd.HBox([wd.VBox(KSliders + piBoxes + [plotButton],layout=layoutBox),\n",
    "                   output],layout=layoutBox)\n",
    "display(mainBox)"
   ]
  },
  {
   "cell_type": "markdown",
   "id": "8dfdec70-5929-4ffd-9619-44fcb0ccaff6",
   "metadata": {},
   "source": [
    "[![Binder](https://mybinder.org/badge_logo.svg)](https://mybinder.org/v2/gh/edsaac/dashboards/HEAD?urlpath=voila%2Frender%2FExponentialGrowth.ipynb)"
   ]
  },
  {
   "cell_type": "raw",
   "id": "05bafe74-9f95-4388-b946-9476bae71d68",
   "metadata": {
    "tags": []
   },
   "source": [
    "## Exponential growth model\n",
    "\n",
    "\\begin{equation}\n",
    "\\begin{array}{rcl}\n",
    "    \\dfrac{dC}{dt} &=& -\\hat{\\mu}X\\dfrac{C}{K_C + C} + (C_\\infty-C)\\exp{\\left(-\\beta \\dfrac{X}{X_{\\rm max}}\\right)} \\\\\n",
    "    \\dfrac{dX}{dt} &=& Y\\hat{\\mu}X\\dfrac{C}{K_C + C} - k_{\\rm die}X\n",
    "\\end{array}\n",
    "\\end{equation}"
   ]
  },
  {
   "cell_type": "raw",
   "id": "4558f84a-09a1-4313-b63d-d94499d312ee",
   "metadata": {
    "tags": []
   },
   "source": [
    "## Non-dimensionalization\n",
    "\n",
    "\\begin{equation}\n",
    "\\begin{array}{rcl}\n",
    "    c &=& C/C_\\infty \\\\\n",
    "    x &=& X/X_{\\rm max} \\\\\n",
    "    \\tau &=& \\hat{\\mu}t \\\\\n",
    "    \\\\\n",
    "    \\pi_0 &=& X_{\\rm max}/C_\\infty \\\\\n",
    "    \\pi_1 &=& K_C/C_\\infty \\\\\n",
    "    \\pi_2 &=& \\alpha/\\hat{\\mu} \\\\\n",
    "    \\pi_3 &=& \\beta \\\\\n",
    "    \\pi_4 &=& Y \\\\\n",
    "    \\pi_5 &=& k_{\\rm die}/\\hat{\\mu}\n",
    "\\end{array}\n",
    "\\end{equation}"
   ]
  },
  {
   "cell_type": "raw",
   "id": "2356b89f-ad0a-45df-b470-c0c4dbc4fc98",
   "metadata": {
    "jp-MarkdownHeadingCollapsed": true,
    "tags": []
   },
   "source": [
    "## Governing equations\n",
    "\n",
    "\\begin{equation}\n",
    "\\begin{array}{rcl}\n",
    "    \\dfrac{dc}{d\\tau} = -\\pi_1 x\\dfrac{c}{\\pi_2 + c} + (1-c)\\exp{\\left(-\\pi_4 x\\right)} \\\\\n",
    "    \\dfrac{dx}{d\\tau} = \\pi_5 x\\dfrac{c}{\\pi_2 + c} - \\pi_6 x\n",
    "\\end{array}\n",
    "\\end{equation}"
   ]
  },
  {
   "cell_type": "code",
   "execution_count": 8,
   "id": "cd015ad8-892e-4773-9b1e-96db3f4af33f",
   "metadata": {},
   "outputs": [],
   "source": [
    "eqTex0 = wd.HTMLMath(r'''\\begin{equation}\n",
    "\\begin{array}{rcl}\n",
    "    \\dfrac{dC}{dt} &=& -\\hat{\\mu}X\\dfrac{C}{K_C + C} + (C_\\infty-C)\\exp{\\left(-\\beta \\dfrac{X}{X_{\\rm max}}\\right)} \\\\\n",
    "    \\dfrac{dX}{dt} &=& Y\\hat{\\mu}X\\dfrac{C}{K_C + C} - k_{\\rm die}X\n",
    "\\end{array}\n",
    "\\end{equation}''')\n",
    "\n",
    "eqTex1 = wd.HTMLMath(r'''\\begin{equation}\n",
    "\\begin{array}{rcl}\n",
    "    c &=& C/C_\\infty \\\\\n",
    "    x &=& X/X_{\\rm max} \\\\\n",
    "    \\tau &=& \\hat{\\mu}t \\\\\n",
    "    \\\\\n",
    "    \\pi_0 &=& X_{\\rm max}/C_\\infty \\\\\n",
    "    \\pi_1 &=& K_C/C_\\infty \\\\\n",
    "    \\pi_2 &=& \\alpha/\\hat{\\mu} \\\\\n",
    "    \\pi_3 &=& \\beta \\\\\n",
    "    \\pi_4 &=& Y \\\\\n",
    "    \\pi_5 &=& k_{\\rm die}/\\hat{\\mu}\n",
    "\\end{array}\n",
    "\\end{equation}''')\n",
    "\n",
    "eqTex2 = wd.HTMLMath(r'''\\begin{equation}\n",
    "\\begin{array}{rcl}\n",
    "    \\dfrac{dc}{d\\tau} &=& -\\pi_1 x\\dfrac{c}{\\pi_2 + c} + (1-c)\\exp{\\left(-\\pi_4 x\\right)} \\\\\n",
    "    \\dfrac{dx}{d\\tau} &=& \\pi_5 x\\dfrac{c}{\\pi_2 + c} - \\pi_6 x\n",
    "\\end{array}\n",
    "\\end{equation}''')\n",
    "\n",
    "eqTexs = [eqTex0,eqTex1,eqTex2]"
   ]
  },
  {
   "cell_type": "code",
   "execution_count": 13,
   "id": "35e3d90d-5179-4f25-8761-4f284aaeff3d",
   "metadata": {},
   "outputs": [
    {
     "data": {
      "application/vnd.jupyter.widget-view+json": {
       "model_id": "bc4b3c086dae401fa0989e38d88b38de",
       "version_major": 2,
       "version_minor": 0
      },
      "text/plain": [
       "VBox(children=(Accordion(children=(HTMLMath(value='\\\\begin{equation}\\n\\\\begin{array}{rcl}\\n    \\\\dfrac{dC}{dt}…"
      ]
     },
     "metadata": {},
     "output_type": "display_data"
    }
   ],
   "source": [
    "kw_streams = {'density':2,'linewidth':1,'arrowsize':0.5,\n",
    "              'arrowstyle':'->','color':'darkmagenta','minlength':0.2}\n",
    "\n",
    "output = wd.Output()\n",
    "\n",
    "@output.capture(clear_output=True)\n",
    "def plotStream(x,c,dx,dc):\n",
    "    fig,ax = plt.subplots(figsize=[8,6],constrained_layout=True)\n",
    "    ax.streamplot(x,c,dx,dc,**kw_streams)\n",
    "    ax.grid(True)\n",
    "    ax.set(ylabel=\"c\",xlabel='x')\n",
    "    plt.show();\n",
    "\n",
    "def updateFig(b):\n",
    "    piArray = [slider.value for slider in piBoxes]\n",
    "    dx,dc = stream(x,c,piArray)\n",
    "    plotStream(x,c,dx,dc);\n",
    "    return None\n",
    "\n",
    "accordion = wd.Accordion(eqTexs)\n",
    "accordion.selected_index = None\n",
    "accordion.set_title(0,'Governing ODEs')\n",
    "accordion.set_title(1,'Nondimensionalization')\n",
    "accordion.set_title(2,'Non-dimensional ODEs')\n",
    "\n",
    "plotButton = wd.Button(description=\"Plot!\",layout=wd.Layout(width=\"40%\"))\n",
    "plotButton.on_click(updateFig)\n",
    "\n",
    "whiteSpace = wd.HTML(\"&darr;\")\n",
    "\n",
    "layoutBox = wd.Layout(align_items='center')\n",
    "mainBox = wd.VBox([accordion,wd.HBox([wd.VBox(KSliders + [whiteSpace] + piBoxes + [whiteSpace,plotButton],layout=layoutBox),\n",
    "                   output])])\n",
    "display(mainBox)"
   ]
  },
  {
   "cell_type": "code",
   "execution_count": null,
   "id": "c37a7906-0540-4392-9e0f-a3d33cf965c6",
   "metadata": {},
   "outputs": [],
   "source": []
  },
  {
   "cell_type": "code",
   "execution_count": null,
   "id": "f9178708-3ae6-4007-aace-278413cc3c85",
   "metadata": {},
   "outputs": [],
   "source": []
  }
 ],
 "metadata": {
  "kernelspec": {
   "display_name": "Python 3 (ipykernel)",
   "language": "python",
   "name": "python3"
  },
  "language_info": {
   "codemirror_mode": {
    "name": "ipython",
    "version": 3
   },
   "file_extension": ".py",
   "mimetype": "text/x-python",
   "name": "python",
   "nbconvert_exporter": "python",
   "pygments_lexer": "ipython3",
   "version": "3.8.10"
  }
 },
 "nbformat": 4,
 "nbformat_minor": 5
}

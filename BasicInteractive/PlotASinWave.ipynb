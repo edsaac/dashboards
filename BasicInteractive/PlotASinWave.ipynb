{
 "cells": [
  {
   "cell_type": "code",
   "execution_count": 1,
   "metadata": {},
   "outputs": [],
   "source": [
    "import numpy as np\n",
    "import matplotlib.pyplot as plt\n",
    "import ipywidgets as wd"
   ]
  },
  {
   "cell_type": "code",
   "execution_count": 2,
   "metadata": {},
   "outputs": [],
   "source": [
    "##  Goal: To make a little interactive plot"
   ]
  },
  {
   "cell_type": "code",
   "execution_count": 3,
   "metadata": {},
   "outputs": [],
   "source": [
    "## Define a class to store the x and y data to make the plot\n",
    "## It takes care of updating the y values when a parameter is \n",
    "## changed from a widget.\n",
    "\n",
    "class mathPlotter():\n",
    "    def __init__(self):\n",
    "        self.xlin = np.linspace(-2*np.pi,2*np.pi,51)\n",
    "        self.ylin = np.zeros_like(self.xlin)\n",
    "        self._amplitude = 0.0\n",
    "        self._shift = 0.0\n",
    "    \n",
    "    @property\n",
    "    def amplitude(self):\n",
    "        return self._amplitude\n",
    "\n",
    "    @amplitude.setter\n",
    "    def amplitude(self,value):\n",
    "        self._amplitude = value\n",
    "        self.calculate()\n",
    "\n",
    "    @property\n",
    "    def shift(self):\n",
    "        return self._shift\n",
    "\n",
    "    @shift.setter\n",
    "    def shift(self,value):\n",
    "        self._shift = value\n",
    "        self.calculate()\n",
    "\n",
    "    def calculate(self):\n",
    "        self.ylin = self.amplitude * np.sin(self.xlin + self.shift)\n",
    "\n",
    "    def plotFigure(self,ax,plot_dict):\n",
    "        ax.plot(self.xlin,self.ylin,**plot_dict)\n",
    "\n",
    "## Instantiate our class\n",
    "sinewave = mathPlotter()"
   ]
  },
  {
   "cell_type": "code",
   "execution_count": 4,
   "metadata": {},
   "outputs": [],
   "source": [
    "##  Make a list of widgets that we want to use\n",
    "mathbox_equation = wd.HTMLMath(value=\"$$y = \\sin{ax} + b$$\")\n",
    "slider_amplitude = wd.FloatSlider(description=r'Amplitude ($a$)',min=0,max=5,step=0.1)\n",
    "slider_shift     = wd.FloatSlider(description=r'Shift ($b$)',min=-2,max=2,step=0.1)\n",
    "output_capturer  = wd.Output()\n",
    "button_updatePlot = wd.Button()"
   ]
  },
  {
   "cell_type": "code",
   "execution_count": 5,
   "metadata": {},
   "outputs": [],
   "source": [
    "##  We want to show our widgets in that nice layout\n",
    "##  A layout object holds CSS properties like alignements\n",
    "layout = wd.Layout(justify_content='center',align_items='center')\n",
    "\n",
    "##  Let's keep everything in that vertical box\n",
    "##  [Equation]    Latex box\n",
    "##  -----------\n",
    "##  |         |\n",
    "##  |         |   Plot\n",
    "##  -----------\n",
    "##  |---------|   Slider 1\n",
    "##  |---------|   Slider 1\n",
    "##    |Click|     Button\n",
    "\n",
    "##  Notice the order of the elements\n",
    "mainBox = wd.VBox([mathbox_equation,\n",
    "                   output_capturer,\n",
    "                   slider_amplitude,\n",
    "                   slider_shift,\n",
    "                   button_updatePlot],\n",
    "                  layout=layout)"
   ]
  },
  {
   "cell_type": "code",
   "execution_count": 6,
   "metadata": {},
   "outputs": [],
   "source": [
    "## Now, connect the value of the ipywidget sliders\n",
    "## to the value passed to our math plotter object\n",
    "\n",
    "def sliderValuesToPlotParameters():\n",
    "    sinewave.amplitude = slider_amplitude.value\n",
    "    sinewave.shift = slider_shift.value"
   ]
  },
  {
   "cell_type": "code",
   "execution_count": 7,
   "metadata": {},
   "outputs": [],
   "source": [
    "## Create a function that reacts to the button \n",
    "## and plots the figure in the output widget\n",
    "\n",
    "@output_capturer.capture(clear_output=True,wait=True)\n",
    "def plotInCanvas(button):\n",
    "    \n",
    "    ## Pass the slider values to our math plotter object\n",
    "    sliderValuesToPlotParameters()\n",
    "    fig,ax = plt.subplots()\n",
    "    sinewave.plotFigure(ax,{'lw':3,'c':'k'})\n",
    "    ax.set_xlim([-2*np.pi,2*np.pi])\n",
    "    ax.set_ylim([-5,5])\n",
    "    plt.show()"
   ]
  },
  {
   "cell_type": "code",
   "execution_count": 8,
   "metadata": {},
   "outputs": [],
   "source": [
    "## Finally, indicate what the button must trigger when clicked\n",
    "\n",
    "button_updatePlot.on_click(plotInCanvas)\n",
    "button_updatePlot.description = \"Plot\"\n",
    "button_updatePlot.icon = \"fa-carrot\""
   ]
  },
  {
   "cell_type": "code",
   "execution_count": 9,
   "metadata": {},
   "outputs": [
    {
     "data": {
      "application/vnd.jupyter.widget-view+json": {
       "model_id": "94369c164eef49648e320befefb5693e",
       "version_major": 2,
       "version_minor": 0
      },
      "text/plain": [
       "VBox(children=(HTMLMath(value='$$y = \\\\sin{ax} + b$$'), Output(), FloatSlider(value=0.0, description='Amplitud…"
      ]
     },
     "metadata": {},
     "output_type": "display_data"
    }
   ],
   "source": [
    "display(mainBox)"
   ]
  },
  {
   "cell_type": "code",
   "execution_count": null,
   "metadata": {},
   "outputs": [],
   "source": []
  }
 ],
 "metadata": {
  "kernelspec": {
   "display_name": "Python 3 (ipykernel)",
   "language": "python",
   "name": "python3"
  },
  "language_info": {
   "codemirror_mode": {
    "name": "ipython",
    "version": 3
   },
   "file_extension": ".py",
   "mimetype": "text/x-python",
   "name": "python",
   "nbconvert_exporter": "python",
   "pygments_lexer": "ipython3",
   "version": "3.9.5"
  },
  "vscode": {
   "interpreter": {
    "hash": "8f62a988d0078ce54b44b9110a71f93c38ba1feabf8ee2b2fa419091e683527d"
   }
  }
 },
 "nbformat": 4,
 "nbformat_minor": 4
}

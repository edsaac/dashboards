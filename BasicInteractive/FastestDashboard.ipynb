{
 "cells": [
  {
   "cell_type": "code",
   "execution_count": 1,
   "metadata": {},
   "outputs": [],
   "source": [
    "import matplotlib.pyplot as plt\n",
    "import ipywidgets as wd"
   ]
  },
  {
   "cell_type": "code",
   "execution_count": 2,
   "metadata": {},
   "outputs": [],
   "source": [
    "##  Make a list of widgets that we want to use\n",
    "txt_x = wd.FloatText(description=r'$x$')\n",
    "txt_y = wd.FloatText(description=r'$y$')\n",
    "button_updatePlot = wd.Button()\n",
    "output_capturer  = wd.Output()\n",
    "\n",
    "##  We want to show our widgets centered in the screen\n",
    "layout = wd.Layout(justify_content='center',align_items='center')\n",
    "\n",
    "##  Notice the order of the elements\n",
    "##  \n",
    "##  |----X----|   FloatText\n",
    "##  |----Y----|   FloatText\n",
    "##  |Add-Point|   Button \n",
    "##  -----------\n",
    "##  |         |\n",
    "##  |         |   Plot\n",
    "##  -----------\n",
    "mainBox = wd.VBox([wd.HBox([txt_x,txt_y]),\n",
    "                   button_updatePlot,\n",
    "                   output_capturer],\n",
    "                  layout=layout)"
   ]
  },
  {
   "cell_type": "code",
   "execution_count": 3,
   "metadata": {},
   "outputs": [],
   "source": [
    "xList, yList = [], []\n",
    "\n",
    "def plotInCanvas(button):\n",
    "    xList.append(txt_x.value)\n",
    "    yList.append(txt_y.value)\n",
    "    \n",
    "    output_capturer.clear_output(wait=True)\n",
    "    with output_capturer:\n",
    "        fig,ax = plt.subplots(figsize=[8,8])\n",
    "        ax.set(xlim=[0,100],ylim=[0,100],aspect='equal')\n",
    "        ax.scatter(xList,yList)\n",
    "        plt.show()"
   ]
  },
  {
   "cell_type": "code",
   "execution_count": 4,
   "metadata": {},
   "outputs": [],
   "source": [
    "button_updatePlot.on_click(plotInCanvas)\n",
    "button_updatePlot.description = \"Plot\"\n",
    "button_updatePlot.icon = \"fa-carrot\""
   ]
  },
  {
   "cell_type": "code",
   "execution_count": 5,
   "metadata": {},
   "outputs": [
    {
     "data": {
      "application/vnd.jupyter.widget-view+json": {
       "model_id": "fd190a89dd3546b4b392ba1de69e4038",
       "version_major": 2,
       "version_minor": 0
      },
      "text/plain": [
       "VBox(children=(HBox(children=(FloatText(value=0.0, description='$x$'), FloatText(value=0.0, description='$y$')…"
      ]
     },
     "metadata": {},
     "output_type": "display_data"
    }
   ],
   "source": [
    "display(mainBox)"
   ]
  },
  {
   "cell_type": "code",
   "execution_count": null,
   "metadata": {},
   "outputs": [],
   "source": []
  }
 ],
 "metadata": {
  "kernelspec": {
   "display_name": "Python 3.9.5 ('venv')",
   "language": "python",
   "name": "python3"
  },
  "language_info": {
   "codemirror_mode": {
    "name": "ipython",
    "version": 3
   },
   "file_extension": ".py",
   "mimetype": "text/x-python",
   "name": "python",
   "nbconvert_exporter": "python",
   "pygments_lexer": "ipython3",
   "version": "3.9.5"
  },
  "orig_nbformat": 4,
  "vscode": {
   "interpreter": {
    "hash": "8f62a988d0078ce54b44b9110a71f93c38ba1feabf8ee2b2fa419091e683527d"
   }
  }
 },
 "nbformat": 4,
 "nbformat_minor": 2
}
